{
 "cells": [
  {
   "cell_type": "markdown",
   "id": "angry-pearl",
   "metadata": {
    "toc": true
   },
   "source": [
    "<h1>Table of Contents<span class=\"tocSkip\"></span></h1>\n",
    "<div class=\"toc\"><ul class=\"toc-item\"><li><span><a href=\"#AB-Testing\" data-toc-modified-id=\"AB-Testing-1\"><span class=\"toc-item-num\">1&nbsp;&nbsp;</span>AB-Testing</a></span></li></ul></div>"
   ]
  },
  {
   "cell_type": "markdown",
   "id": "c92ba6e0",
   "metadata": {},
   "source": [
    "# AB-Testing\n",
    "\n",
    "![cats](images/cats.jpeg)\n",
    "\n",
    "\n",
    "Imaginad que somos los cientificos de datos de la empresa de videojuegos Tactile Entertainment. Los desarrolladores del juego Cookie Cats pretenden introducir un cambio en el juego para aumentar la retencion de los jugadores. En cierto nivel del juego los jugadores se encuentran una puerta que les obliga a esperar o a pagar la app. Actualmente la puerta se encuentra en nivel 30 y se pretende pasar al nivel 40, para comprobar la retencion a 1 y 7 dias. Antes de realizar el cambio definitivo en el juego se raliza un test AB.\n",
    "\n",
    "Los datos estan alojados en `data/cookie_cats.csv`. Nuestro grupo de control sera la version actual `gate_30` y el grupo de tratamiento sera la version `gate_40`. Debemos realizar el test para 1 dia de retencion `retention_1` y para 7 dias `retention_7`."
   ]
  },
  {
   "cell_type": "code",
   "execution_count": 1,
   "id": "ac3b2f52",
   "metadata": {},
   "outputs": [],
   "source": [
    "# librerias\n",
    "\n",
    "import pandas as pd\n",
    "import numpy as np\n",
    "\n",
    "from statsmodels.stats.proportion import proportions_ztest, proportion_confint\n",
    "from scipy.stats import norm, sem\n",
    "\n",
    "import pylab as plt"
   ]
  },
  {
   "cell_type": "code",
   "execution_count": 5,
   "id": "0245b81c",
   "metadata": {},
   "outputs": [],
   "source": [
    "import warnings\n",
    "warnings.simplefilter('ignore')"
   ]
  },
  {
   "cell_type": "code",
   "execution_count": 12,
   "id": "7fe515c2",
   "metadata": {},
   "outputs": [
    {
     "data": {
      "text/html": [
       "<div>\n",
       "<style scoped>\n",
       "    .dataframe tbody tr th:only-of-type {\n",
       "        vertical-align: middle;\n",
       "    }\n",
       "\n",
       "    .dataframe tbody tr th {\n",
       "        vertical-align: top;\n",
       "    }\n",
       "\n",
       "    .dataframe thead th {\n",
       "        text-align: right;\n",
       "    }\n",
       "</style>\n",
       "<table border=\"1\" class=\"dataframe\">\n",
       "  <thead>\n",
       "    <tr style=\"text-align: right;\">\n",
       "      <th></th>\n",
       "      <th>userid</th>\n",
       "      <th>version</th>\n",
       "      <th>sum_gamerounds</th>\n",
       "      <th>retention_1</th>\n",
       "      <th>retention_7</th>\n",
       "    </tr>\n",
       "  </thead>\n",
       "  <tbody>\n",
       "    <tr>\n",
       "      <th>0</th>\n",
       "      <td>116</td>\n",
       "      <td>gate_30</td>\n",
       "      <td>3</td>\n",
       "      <td>False</td>\n",
       "      <td>False</td>\n",
       "    </tr>\n",
       "    <tr>\n",
       "      <th>1</th>\n",
       "      <td>337</td>\n",
       "      <td>gate_30</td>\n",
       "      <td>38</td>\n",
       "      <td>True</td>\n",
       "      <td>False</td>\n",
       "    </tr>\n",
       "    <tr>\n",
       "      <th>2</th>\n",
       "      <td>377</td>\n",
       "      <td>gate_40</td>\n",
       "      <td>165</td>\n",
       "      <td>True</td>\n",
       "      <td>False</td>\n",
       "    </tr>\n",
       "    <tr>\n",
       "      <th>3</th>\n",
       "      <td>483</td>\n",
       "      <td>gate_40</td>\n",
       "      <td>1</td>\n",
       "      <td>False</td>\n",
       "      <td>False</td>\n",
       "    </tr>\n",
       "    <tr>\n",
       "      <th>4</th>\n",
       "      <td>488</td>\n",
       "      <td>gate_40</td>\n",
       "      <td>179</td>\n",
       "      <td>True</td>\n",
       "      <td>True</td>\n",
       "    </tr>\n",
       "  </tbody>\n",
       "</table>\n",
       "</div>"
      ],
      "text/plain": [
       "   userid  version  sum_gamerounds  retention_1  retention_7\n",
       "0     116  gate_30               3        False        False\n",
       "1     337  gate_30              38         True        False\n",
       "2     377  gate_40             165         True        False\n",
       "3     483  gate_40               1        False        False\n",
       "4     488  gate_40             179         True         True"
      ]
     },
     "execution_count": 12,
     "metadata": {},
     "output_type": "execute_result"
    }
   ],
   "source": [
    "# datos\n",
    "usuarios = pd.read_csv('data/cookie_cats.csv')\n",
    "usuarios.head()\n"
   ]
  },
  {
   "cell_type": "code",
   "execution_count": 14,
   "id": "375fc108",
   "metadata": {},
   "outputs": [
    {
     "name": "stdout",
     "output_type": "stream",
     "text": [
      "<class 'pandas.core.frame.DataFrame'>\n",
      "RangeIndex: 90189 entries, 0 to 90188\n",
      "Data columns (total 5 columns):\n",
      " #   Column          Non-Null Count  Dtype \n",
      "---  ------          --------------  ----- \n",
      " 0   userid          90189 non-null  int64 \n",
      " 1   version         90189 non-null  object\n",
      " 2   sum_gamerounds  90189 non-null  int64 \n",
      " 3   retention_1     90189 non-null  bool  \n",
      " 4   retention_7     90189 non-null  bool  \n",
      "dtypes: bool(2), int64(2), object(1)\n",
      "memory usage: 2.2+ MB\n"
     ]
    }
   ],
   "source": [
    "usuarios.info()"
   ]
  },
  {
   "cell_type": "code",
   "execution_count": 19,
   "id": "bd89b3f4",
   "metadata": {},
   "outputs": [
    {
     "data": {
      "text/plain": [
       "gate_40    45489\n",
       "gate_30    44700\n",
       "Name: version, dtype: int64"
      ]
     },
     "execution_count": 19,
     "metadata": {},
     "output_type": "execute_result"
    }
   ],
   "source": [
    "usuarios.version.value_counts()\n"
   ]
  },
  {
   "cell_type": "code",
   "execution_count": 34,
   "id": "46b8ec91",
   "metadata": {},
   "outputs": [
    {
     "data": {
      "text/plain": [
       "userid            44700\n",
       "version           44700\n",
       "sum_gamerounds    44700\n",
       "retention_1       44700\n",
       "retention_7       44700\n",
       "dtype: int64"
      ]
     },
     "execution_count": 34,
     "metadata": {},
     "output_type": "execute_result"
    }
   ],
   "source": [
    "df30=usuarios[usuarios.version=='gate_30']\n",
    "df30.count()"
   ]
  },
  {
   "cell_type": "code",
   "execution_count": 91,
   "id": "5f170b11",
   "metadata": {},
   "outputs": [
    {
     "data": {
      "text/plain": [
       "userid            45489\n",
       "version           45489\n",
       "sum_gamerounds    45489\n",
       "retention_1       45489\n",
       "retention_7       45489\n",
       "dtype: int64"
      ]
     },
     "execution_count": 91,
     "metadata": {},
     "output_type": "execute_result"
    }
   ],
   "source": [
    "df40=usuarios[usuarios.version=='gate_40']\n",
    "df40.count()"
   ]
  },
  {
   "cell_type": "code",
   "execution_count": null,
   "id": "dfdfb365",
   "metadata": {},
   "outputs": [],
   "source": []
  },
  {
   "cell_type": "code",
   "execution_count": 2,
   "id": "f2e6147a",
   "metadata": {},
   "outputs": [],
   "source": [
    "# transformacion\n",
    "#agrupamos los datos por el userid"
   ]
  },
  {
   "cell_type": "code",
   "execution_count": 35,
   "id": "38f422cb",
   "metadata": {},
   "outputs": [],
   "source": [
    "# muestreo\n"
   ]
  },
  {
   "cell_type": "code",
   "execution_count": 43,
   "id": "5b90c429",
   "metadata": {},
   "outputs": [
    {
     "data": {
      "text/plain": [
       "20119"
      ]
     },
     "execution_count": 43,
     "metadata": {},
     "output_type": "execute_result"
    }
   ],
   "source": [
    "# testeo para retention_1\n",
    "# retention 30\n",
    "df30_1=df30[df30.retention_1==True]['retention_1'].sum()   #retención de 1 día\n",
    "df30_1\n",
    "\n",
    "#retention 40\n",
    "df40_1=df40[df40.retention_1==True]['retention_1'].sum()\n",
    "df40_1\n"
   ]
  },
  {
   "cell_type": "code",
   "execution_count": 44,
   "id": "da6f1cce",
   "metadata": {},
   "outputs": [
    {
     "data": {
      "text/plain": [
       "20034"
      ]
     },
     "execution_count": 44,
     "metadata": {},
     "output_type": "execute_result"
    }
   ],
   "source": [
    "df30_1"
   ]
  },
  {
   "cell_type": "code",
   "execution_count": 46,
   "id": "88bac00d",
   "metadata": {},
   "outputs": [
    {
     "data": {
      "text/plain": [
       "20119"
      ]
     },
     "execution_count": 46,
     "metadata": {},
     "output_type": "execute_result"
    }
   ],
   "source": [
    "df40_1"
   ]
  },
  {
   "cell_type": "code",
   "execution_count": 51,
   "id": "a048a711",
   "metadata": {},
   "outputs": [],
   "source": [
    "# testeo para retention_7\n",
    "# retention 30\n",
    "df30_7=df30[df30.retention_7==True]['retention_7'].sum()\n",
    "\n",
    "# retention 40\n",
    "df40_7=df40[df40.retention_7==True]['retention_7'].sum()\n"
   ]
  },
  {
   "cell_type": "code",
   "execution_count": 49,
   "id": "18148d8b",
   "metadata": {},
   "outputs": [
    {
     "data": {
      "text/plain": [
       "8502"
      ]
     },
     "execution_count": 49,
     "metadata": {},
     "output_type": "execute_result"
    }
   ],
   "source": [
    "df30_7  #control 7 días"
   ]
  },
  {
   "cell_type": "code",
   "execution_count": 53,
   "id": "41def929",
   "metadata": {},
   "outputs": [
    {
     "data": {
      "text/plain": [
       "8279"
      ]
     },
     "execution_count": 53,
     "metadata": {},
     "output_type": "execute_result"
    }
   ],
   "source": [
    "df40_7  # test 7 días"
   ]
  },
  {
   "cell_type": "code",
   "execution_count": 66,
   "id": "598b0f5d",
   "metadata": {},
   "outputs": [
    {
     "data": {
      "text/plain": [
       "'TASAS: Control=0.4481879194630872, Test=0.44228274967574577'"
      ]
     },
     "execution_count": 66,
     "metadata": {},
     "output_type": "execute_result"
    }
   ],
   "source": [
    "#EMPIEZO OTRA VEZ\n",
    "#Esto de Yona. Hay que adaptarlo a 2\n",
    "#1_día\n",
    "imps_30_1, convs_ctrl1 = 44700, 20034   # entrar, esperar\n",
    "imps_40_1, convs_test1= 45489, 20119\n",
    "\n",
    "CR_ctrl = convs_ctrl1/imps_30_1\n",
    "CR_test = convs_test1/imps_40_1\n",
    "\n",
    "\n",
    "f'TASAS: Control={CR_ctrl}, Test={CR_test}'"
   ]
  },
  {
   "cell_type": "code",
   "execution_count": 65,
   "id": "434bde32",
   "metadata": {},
   "outputs": [
    {
     "data": {
      "text/plain": [
       "'TASAS: Control=0.19020134228187918, Test=0.18200004396667327'"
      ]
     },
     "execution_count": 65,
     "metadata": {},
     "output_type": "execute_result"
    }
   ],
   "source": [
    "# 7_días\n",
    "\n",
    "imps_30_7, convs_ctrl7 = 44700, 8502   # entrar, esperar\n",
    "imps_40_7, convs_test7= 45489, 8279\n",
    "\n",
    "CR_ctr7 = convs_ctrl7/imps_30_7\n",
    "CR_test7 = convs_test7/imps_40_7\n",
    "\n",
    "f'TASAS: Control={CR_ctr7}, Test={CR_test7}'"
   ]
  },
  {
   "cell_type": "code",
   "execution_count": 69,
   "id": "4fcd0b4a",
   "metadata": {},
   "outputs": [],
   "source": [
    "#Los a prioris 1_día\n",
    "\n",
    "treinta_C_1, cuarenta_C_1 = convs_ctrl1+1, imps_30_1-convs_ctrl1+1   #control\n",
    "treinta_T_1, cuarenta_T_1 = imps_40_1+1, imps_40_1-convs_test+1   #test\n"
   ]
  },
  {
   "cell_type": "code",
   "execution_count": 68,
   "id": "a1c355eb",
   "metadata": {},
   "outputs": [],
   "source": [
    "#Los a prioris 7_día\n",
    "treinta_C_7, cuarenta_C_7 = convs_ctrl+1, imps_30_1-convs_ctrl+1    #control\n",
    "treinta_T_7, cuarenta_T_7 = imps_40_1+1, imps_40_1-convs_test7+1    #Test\n"
   ]
  },
  {
   "cell_type": "code",
   "execution_count": 70,
   "id": "94360bf0",
   "metadata": {},
   "outputs": [
    {
     "name": "stdout",
     "output_type": "stream",
     "text": [
      "20035 24667\n",
      "45490 25371\n"
     ]
    }
   ],
   "source": [
    "print(treinta_C_1, cuarenta_C_1 )   #esto es día 1 control de 30 a 40 \n",
    "print(treinta_T_1, cuarenta_T_1)    #esto es día 1 test de 30 a 40"
   ]
  },
  {
   "cell_type": "code",
   "execution_count": 72,
   "id": "eea323a9",
   "metadata": {},
   "outputs": [
    {
     "name": "stdout",
     "output_type": "stream",
     "text": [
      "20035 24667\n",
      "45490 37211\n"
     ]
    }
   ],
   "source": [
    "print(treinta_C_7, cuarenta_C_7)    #esto es día 7 control de 30 a 40\n",
    "print(treinta_T_7, cuarenta_T_7)    #esto es día 7 test de 30 a 40"
   ]
  },
  {
   "cell_type": "code",
   "execution_count": 61,
   "id": "47dcd58a",
   "metadata": {},
   "outputs": [],
   "source": [
    "beta_control=beta(treinta_C, cuarenta_C)   #Se ponen los controles. 30\n",
    "beta_test=beta(treinta_T, cuarenta_T)     #Se ponen los test. 40\n",
    "\n"
   ]
  },
  {
   "cell_type": "code",
   "execution_count": 74,
   "id": "2031770c",
   "metadata": {},
   "outputs": [],
   "source": [
    "# a prioris de 1 \n",
    "\n",
    "a_C, b_C = convs_ctrl1 +1, imps_30_1-convs_ctrl1 +1\n",
    "a_T, b_T = convs_test1 +1, imps_40_1-convs_test1 +1\n",
    "\n",
    "beta_control=beta(a_C, b_C)\n",
    "beta_test=beta(a_T, b_T)\n"
   ]
  },
  {
   "cell_type": "code",
   "execution_count": 75,
   "id": "80a984f1",
   "metadata": {},
   "outputs": [],
   "source": [
    "#a prioris de 7\n",
    "\n",
    "a_C_7, b_C_7 = convs_ctrl7 +1, imps_30_7-convs_ctrl7 +1\n",
    "a_T_7, b_T_7 = convs_test7 +1, imps_40_7-convs_test7 +1\n",
    "\n",
    "beta_control7=beta(a_C_7, b_C_7)\n",
    "beta_test7=beta(a_T_7, b_T_7)"
   ]
  },
  {
   "cell_type": "code",
   "execution_count": null,
   "id": "1c4c7eda",
   "metadata": {},
   "outputs": [],
   "source": [
    "#medias"
   ]
  },
  {
   "cell_type": "code",
   "execution_count": 76,
   "id": "0d828417",
   "metadata": {},
   "outputs": [
    {
     "data": {
      "text/plain": [
       "(0.44819023757326293, 0.44228528719966587)"
      ]
     },
     "execution_count": 76,
     "metadata": {},
     "output_type": "execute_result"
    }
   ],
   "source": [
    "beta_control.mean(), beta_test.mean()   #de 1"
   ]
  },
  {
   "cell_type": "code",
   "execution_count": 77,
   "id": "120fb43c",
   "metadata": {},
   "outputs": [
    {
     "data": {
      "text/plain": [
       "(0.19021520289919913, 0.18201402475214878)"
      ]
     },
     "execution_count": 77,
     "metadata": {},
     "output_type": "execute_result"
    }
   ],
   "source": [
    "beta_control7.mean(), beta_test7.mean()   # de 7"
   ]
  },
  {
   "cell_type": "code",
   "execution_count": null,
   "id": "f5083210",
   "metadata": {},
   "outputs": [],
   "source": [
    "#Dibujar"
   ]
  },
  {
   "cell_type": "code",
   "execution_count": 156,
   "id": "1eb1df1b",
   "metadata": {},
   "outputs": [],
   "source": [
    "x=np.linspace(0, 0.008, 1000)\n",
    "\n",
    "\n",
    "'''  CON ESTA NO FUNCIONA, NO SÉ SI ES PORQUE LE FALTAN LOS PARÁMETROS AL PLOT\n",
    "\n",
    "def plot(betas, nombres):\n",
    "    \n",
    "    for bet, nom in zip(betas, nombres):\n",
    "        \n",
    "        y=bet.pdf(x)\n",
    "        y_media=bet.mean()\n",
    "        y_std=bet.std()\n",
    "        \n",
    "        plt.plot(x, y, label='{}, tasa de conv: {:.6f} $\\pm$ {:.10f}'.format(nom, y_media, y_std))\n",
    "        plt.yticks([])\n",
    "        \n",
    "    plt.legend()\n",
    "    plt.show()'''\n",
    "    \n",
    "\n",
    "x = np.linspace(0.43, 0.46, 1000)\n",
    "\n",
    "def plot(betas, nombres):\n",
    "    \n",
    "    for bet, nom in zip(betas, nombres):\n",
    "        \n",
    "        y = bet.pdf(x)\n",
    "        y_media = bet.mean()\n",
    "        y_std = bet.std()\n",
    "        \n",
    "        plt.plot(x, y, label = '{}, tasa de conv: {:.6f} $\\pm$ {:.10f}'.format(nom, y_media, y_std))\n",
    "        plt.yticks([])\n",
    "        \n",
    "    plt.legend()\n",
    "    plt.show();\n",
    "    plt.rcParams['figure.figsize']=(15, 8)"
   ]
  },
  {
   "cell_type": "code",
   "execution_count": 154,
   "id": "28f37cac",
   "metadata": {
    "scrolled": true
   },
   "outputs": [
    {
     "data": {
      "image/png": "[encoded data removed]",
      "text/plain": [
       "<Figure size 1080x576 with 1 Axes>"
      ]
     },
     "metadata": {
      "needs_background": "light"
     },
     "output_type": "display_data"
    }
   ],
   "source": [
    "plot([beta_control, beta_test], ['Control', 'Testeo'])\n"
   ]
  },
  {
   "cell_type": "code",
   "execution_count": null,
   "id": "ddd7f0f0",
   "metadata": {},
   "outputs": [],
   "source": []
  },
  {
   "cell_type": "code",
   "execution_count": null,
   "id": "05aae6e4",
   "metadata": {},
   "outputs": [],
   "source": []
  },
  {
   "cell_type": "markdown",
   "id": "8f4a9494",
   "metadata": {},
   "source": [
    "# Frecuentista"
   ]
  },
  {
   "cell_type": "markdown",
   "id": "060b3808",
   "metadata": {},
   "source": [
    "## Día 1"
   ]
  },
  {
   "cell_type": "markdown",
   "id": "8dd1034b",
   "metadata": {},
   "source": [
    "## Control = 30"
   ]
  },
  {
   "cell_type": "code",
   "execution_count": 109,
   "id": "0f3bd968",
   "metadata": {},
   "outputs": [],
   "source": [
    "import pandas as pd\n",
    "import numpy as np\n",
    "\n",
    "from statsmodels.stats.proportion import proportions_ztest, proportion_confint\n",
    "from scipy.stats import norm, sem, stats\n",
    "\n",
    "import pylab as plt\n",
    "import seaborn as sns"
   ]
  },
  {
   "cell_type": "code",
   "execution_count": 97,
   "id": "10462c14",
   "metadata": {},
   "outputs": [],
   "source": [
    "d1 = pd.crosstab(usuarios.version, usuarios.retention_1)\n",
    "d2 = pd.crosstab(usuarios.version, usuarios.retention_7)\n"
   ]
  },
  {
   "cell_type": "code",
   "execution_count": 98,
   "id": "ac4067b5",
   "metadata": {},
   "outputs": [
    {
     "data": {
      "text/html": [
       "<div>\n",
       "<style scoped>\n",
       "    .dataframe tbody tr th:only-of-type {\n",
       "        vertical-align: middle;\n",
       "    }\n",
       "\n",
       "    .dataframe tbody tr th {\n",
       "        vertical-align: top;\n",
       "    }\n",
       "\n",
       "    .dataframe thead th {\n",
       "        text-align: right;\n",
       "    }\n",
       "</style>\n",
       "<table border=\"1\" class=\"dataframe\">\n",
       "  <thead>\n",
       "    <tr style=\"text-align: right;\">\n",
       "      <th>retention_1</th>\n",
       "      <th>False</th>\n",
       "      <th>True</th>\n",
       "    </tr>\n",
       "    <tr>\n",
       "      <th>version</th>\n",
       "      <th></th>\n",
       "      <th></th>\n",
       "    </tr>\n",
       "  </thead>\n",
       "  <tbody>\n",
       "    <tr>\n",
       "      <th>gate_30</th>\n",
       "      <td>24666</td>\n",
       "      <td>20034</td>\n",
       "    </tr>\n",
       "    <tr>\n",
       "      <th>gate_40</th>\n",
       "      <td>25370</td>\n",
       "      <td>20119</td>\n",
       "    </tr>\n",
       "  </tbody>\n",
       "</table>\n",
       "</div>"
      ],
      "text/plain": [
       "retention_1  False   True\n",
       "version                  \n",
       "gate_30      24666  20034\n",
       "gate_40      25370  20119"
      ]
     },
     "execution_count": 98,
     "metadata": {},
     "output_type": "execute_result"
    }
   ],
   "source": [
    "d1"
   ]
  },
  {
   "cell_type": "code",
   "execution_count": 126,
   "id": "ef0e73ba",
   "metadata": {},
   "outputs": [
    {
     "data": {
      "text/plain": [
       "0"
      ]
     },
     "execution_count": 126,
     "metadata": {},
     "output_type": "execute_result"
    }
   ],
   "source": [
    "ppl=usuarios.userid.value_counts()\n",
    "ppl[ppl>1].count()"
   ]
  },
  {
   "cell_type": "code",
   "execution_count": 100,
   "id": "f6edeadf",
   "metadata": {},
   "outputs": [
    {
     "data": {
      "text/plain": [
       "<AxesSubplot:xlabel='version'>"
      ]
     },
     "execution_count": 100,
     "metadata": {},
     "output_type": "execute_result"
    },
    {
     "data": {
      "image/png": "[encoded data removed]",
      "text/plain": [
       "<Figure size 1080x576 with 1 Axes>"
      ]
     },
     "metadata": {
      "needs_background": "light"
     },
     "output_type": "display_data"
    }
   ],
   "source": [
    "d1.plot(kind='bar')"
   ]
  },
  {
   "cell_type": "code",
   "execution_count": 146,
   "id": "7ee4d253",
   "metadata": {},
   "outputs": [],
   "source": [
    "c_ret1 = usuarios[usuarios.version=='gate_30'].sample(n=20034)   #columna True\n",
    "t_ret1= usuarios[usuarios.version=='gate_40'].sample(n=20034)\n",
    "\n",
    "\n",
    "ab_test_1=pd.concat([c_ret1, t_ret1], axis=0)\n",
    "\n",
    "\n"
   ]
  },
  {
   "cell_type": "code",
   "execution_count": 147,
   "id": "c8459d3f",
   "metadata": {},
   "outputs": [
    {
     "data": {
      "text/plain": [
       "gate_30    20034\n",
       "gate_40    20034\n",
       "Name: version, dtype: int64"
      ]
     },
     "execution_count": 147,
     "metadata": {},
     "output_type": "execute_result"
    }
   ],
   "source": [
    "ab_test_1.version.value_counts()\n"
   ]
  },
  {
   "cell_type": "code",
   "execution_count": 110,
   "id": "aebd18be",
   "metadata": {},
   "outputs": [
    {
     "data": {
      "text/html": [
       "<style type=\"text/css\">\n",
       "</style>\n",
       "<table id=\"T_b69f5_\">\n",
       "  <thead>\n",
       "    <tr>\n",
       "      <th class=\"blank level0\" >&nbsp;</th>\n",
       "      <th class=\"col_heading level0 col0\" >conversion_rate</th>\n",
       "      <th class=\"col_heading level0 col1\" >std</th>\n",
       "      <th class=\"col_heading level0 col2\" >std_error</th>\n",
       "    </tr>\n",
       "    <tr>\n",
       "      <th class=\"index_name level0\" >version</th>\n",
       "      <th class=\"blank col0\" >&nbsp;</th>\n",
       "      <th class=\"blank col1\" >&nbsp;</th>\n",
       "      <th class=\"blank col2\" >&nbsp;</th>\n",
       "    </tr>\n",
       "  </thead>\n",
       "  <tbody>\n",
       "    <tr>\n",
       "      <th id=\"T_b69f5_level0_row0\" class=\"row_heading level0 row0\" >gate_30</th>\n",
       "      <td id=\"T_b69f5_row0_col0\" class=\"data row0 col0\" >0.444</td>\n",
       "      <td id=\"T_b69f5_row0_col1\" class=\"data row0 col1\" >0.497</td>\n",
       "      <td id=\"T_b69f5_row0_col2\" class=\"data row0 col2\" >0.004</td>\n",
       "    </tr>\n",
       "    <tr>\n",
       "      <th id=\"T_b69f5_level0_row1\" class=\"row_heading level0 row1\" >gate_40</th>\n",
       "      <td id=\"T_b69f5_row1_col0\" class=\"data row1 col0\" >0.449</td>\n",
       "      <td id=\"T_b69f5_row1_col1\" class=\"data row1 col1\" >0.497</td>\n",
       "      <td id=\"T_b69f5_row1_col2\" class=\"data row1 col2\" >0.004</td>\n",
       "    </tr>\n",
       "  </tbody>\n",
       "</table>\n"
      ],
      "text/plain": [
       "<pandas.io.formats.style.Styler at 0x7f7cd64e4a00>"
      ]
     },
     "execution_count": 110,
     "metadata": {},
     "output_type": "execute_result"
    }
   ],
   "source": [
    "tasas_conversion=ab_test_1.groupby('version')['retention_1'] # agrupo por grupo\n",
    "\n",
    "std=lambda x: np.std(x, ddof=0)    # std\n",
    "\n",
    "error_std=lambda x: stats.sem(x, ddof=0)   # error standard , (std/sqrt(n))\n",
    "\n",
    "tasas_conversion=tasas_conversion.agg([np.mean, std, error_std])\n",
    "tasas_conversion.columns=['conversion_rate', 'std', 'std_error']\n",
    "\n",
    "\n",
    "tasas_conversion.style.format('{:.3f}')\n",
    "\n",
    "\n"
   ]
  },
  {
   "cell_type": "code",
   "execution_count": 112,
   "id": "40c95739",
   "metadata": {},
   "outputs": [
    {
     "data": {
      "image/png": "[encoded data removed]",
      "text/plain": [
       "<Figure size 432x288 with 1 Axes>"
      ]
     },
     "metadata": {
      "needs_background": "light"
     },
     "output_type": "display_data"
    }
   ],
   "source": [
    "plt.figure(figsize=(6,4))\n",
    "\n",
    "sns.barplot(x=ab_test_1['version'], \n",
    "            y=ab_test_1['retention_1'])\n",
    "\n",
    "# plt.ylim(0, 0.17)\n",
    "plt.title('Conversión')\n",
    "plt.xlabel('Grupo')\n",
    "plt.ylabel('Convertido (proporción)');"
   ]
  },
  {
   "cell_type": "code",
   "execution_count": 114,
   "id": "f4d28144",
   "metadata": {},
   "outputs": [],
   "source": [
    "#significance\n",
    "c_res_1=ab_test_1[ab_test_1.version=='gate_30']['retention_1']  #c es control\n",
    "\n",
    "t_res_1=ab_test_1[ab_test_1.version=='gate_40']['retention_1']\n",
    "\n"
   ]
  },
  {
   "cell_type": "code",
   "execution_count": 133,
   "id": "aec3f92c",
   "metadata": {},
   "outputs": [
    {
     "name": "stdout",
     "output_type": "stream",
     "text": [
      "[8891, 8997]\n",
      "-1.0652291289214457\n"
     ]
    }
   ],
   "source": [
    "obs_1=[20034, 20034] \n",
    "\n",
    "conv_1=[c_res_1.sum(), t_res_1.sum()]   # conversiones por grupo\n",
    "print(conv_1)\n",
    "\n",
    "z_score, p_valor = proportions_ztest(conv_1, nobs=obs_1)  # diferencia significativa\n",
    "print(z_score)\n",
    "\n",
    "\n",
    "# intervalos de confianza\n",
    "\n",
    "(c_a, t_a), (c_b, t_b)  = proportion_confint(conv_1,  nobs=obs_1, alpha=0.05)\n",
    "\n"
   ]
  },
  {
   "cell_type": "code",
   "execution_count": 122,
   "id": "b008de26",
   "metadata": {},
   "outputs": [
    {
     "name": "stdout",
     "output_type": "stream",
     "text": [
      "z-score: -1.07\n",
      "p-valor: 0.287\n",
      "95% para grupo control: [0.437, 0.451]\n",
      "95% para grupo test: [0.442, 0.456]\n"
     ]
    }
   ],
   "source": [
    "print(f'z-score: {z_score:.2f}')\n",
    "print(f'p-valor: {p_valor:.3f}')\n",
    "print(f'95% para grupo control: [{c_a:.3f}, {c_b:.3f}]')\n",
    "print(f'95% para grupo test: [{t_a:.3f}, {t_b:.3f}]')\n",
    "\n",
    "\n"
   ]
  },
  {
   "cell_type": "markdown",
   "id": "86ffe975",
   "metadata": {},
   "source": [
    "## Día 7"
   ]
  },
  {
   "cell_type": "code",
   "execution_count": 123,
   "id": "a678f8bc",
   "metadata": {},
   "outputs": [
    {
     "data": {
      "text/html": [
       "<div>\n",
       "<style scoped>\n",
       "    .dataframe tbody tr th:only-of-type {\n",
       "        vertical-align: middle;\n",
       "    }\n",
       "\n",
       "    .dataframe tbody tr th {\n",
       "        vertical-align: top;\n",
       "    }\n",
       "\n",
       "    .dataframe thead th {\n",
       "        text-align: right;\n",
       "    }\n",
       "</style>\n",
       "<table border=\"1\" class=\"dataframe\">\n",
       "  <thead>\n",
       "    <tr style=\"text-align: right;\">\n",
       "      <th>retention_7</th>\n",
       "      <th>False</th>\n",
       "      <th>True</th>\n",
       "    </tr>\n",
       "    <tr>\n",
       "      <th>version</th>\n",
       "      <th></th>\n",
       "      <th></th>\n",
       "    </tr>\n",
       "  </thead>\n",
       "  <tbody>\n",
       "    <tr>\n",
       "      <th>gate_30</th>\n",
       "      <td>36198</td>\n",
       "      <td>8502</td>\n",
       "    </tr>\n",
       "    <tr>\n",
       "      <th>gate_40</th>\n",
       "      <td>37210</td>\n",
       "      <td>8279</td>\n",
       "    </tr>\n",
       "  </tbody>\n",
       "</table>\n",
       "</div>"
      ],
      "text/plain": [
       "retention_7  False  True\n",
       "version                 \n",
       "gate_30      36198  8502\n",
       "gate_40      37210  8279"
      ]
     },
     "execution_count": 123,
     "metadata": {},
     "output_type": "execute_result"
    }
   ],
   "source": [
    "d2"
   ]
  },
  {
   "cell_type": "code",
   "execution_count": 127,
   "id": "80e072fd",
   "metadata": {},
   "outputs": [
    {
     "data": {
      "text/plain": [
       "0"
      ]
     },
     "execution_count": 127,
     "metadata": {},
     "output_type": "execute_result"
    }
   ],
   "source": [
    "ppl=usuarios.userid.value_counts()   #Si son únicos\n",
    "ppl[ppl>1].count()"
   ]
  },
  {
   "cell_type": "code",
   "execution_count": 128,
   "id": "0837d01a",
   "metadata": {},
   "outputs": [
    {
     "data": {
      "text/plain": [
       "<AxesSubplot:xlabel='version'>"
      ]
     },
     "execution_count": 128,
     "metadata": {},
     "output_type": "execute_result"
    },
    {
     "data": {
      "image/png": "[encoded data removed]",
      "text/plain": [
       "<Figure size 1080x576 with 1 Axes>"
      ]
     },
     "metadata": {
      "needs_background": "light"
     },
     "output_type": "display_data"
    }
   ],
   "source": [
    "d2.plot(kind='bar')"
   ]
  },
  {
   "cell_type": "code",
   "execution_count": 131,
   "id": "e9540f61",
   "metadata": {},
   "outputs": [
    {
     "data": {
      "text/html": [
       "<div>\n",
       "<style scoped>\n",
       "    .dataframe tbody tr th:only-of-type {\n",
       "        vertical-align: middle;\n",
       "    }\n",
       "\n",
       "    .dataframe tbody tr th {\n",
       "        vertical-align: top;\n",
       "    }\n",
       "\n",
       "    .dataframe thead th {\n",
       "        text-align: right;\n",
       "    }\n",
       "</style>\n",
       "<table border=\"1\" class=\"dataframe\">\n",
       "  <thead>\n",
       "    <tr style=\"text-align: right;\">\n",
       "      <th></th>\n",
       "      <th>userid</th>\n",
       "      <th>version</th>\n",
       "      <th>sum_gamerounds</th>\n",
       "      <th>retention_1</th>\n",
       "      <th>retention_7</th>\n",
       "    </tr>\n",
       "  </thead>\n",
       "  <tbody>\n",
       "    <tr>\n",
       "      <th>86311</th>\n",
       "      <td>9561402</td>\n",
       "      <td>gate_40</td>\n",
       "      <td>133</td>\n",
       "      <td>False</td>\n",
       "      <td>False</td>\n",
       "    </tr>\n",
       "    <tr>\n",
       "      <th>21599</th>\n",
       "      <td>2405434</td>\n",
       "      <td>gate_40</td>\n",
       "      <td>46</td>\n",
       "      <td>True</td>\n",
       "      <td>False</td>\n",
       "    </tr>\n",
       "    <tr>\n",
       "      <th>61946</th>\n",
       "      <td>6862538</td>\n",
       "      <td>gate_40</td>\n",
       "      <td>15</td>\n",
       "      <td>True</td>\n",
       "      <td>False</td>\n",
       "    </tr>\n",
       "    <tr>\n",
       "      <th>10024</th>\n",
       "      <td>1103572</td>\n",
       "      <td>gate_40</td>\n",
       "      <td>277</td>\n",
       "      <td>True</td>\n",
       "      <td>True</td>\n",
       "    </tr>\n",
       "    <tr>\n",
       "      <th>46018</th>\n",
       "      <td>5094813</td>\n",
       "      <td>gate_40</td>\n",
       "      <td>40</td>\n",
       "      <td>False</td>\n",
       "      <td>False</td>\n",
       "    </tr>\n",
       "  </tbody>\n",
       "</table>\n",
       "</div>"
      ],
      "text/plain": [
       "        userid  version  sum_gamerounds  retention_1  retention_7\n",
       "86311  9561402  gate_40             133        False        False\n",
       "21599  2405434  gate_40              46         True        False\n",
       "61946  6862538  gate_40              15         True        False\n",
       "10024  1103572  gate_40             277         True         True\n",
       "46018  5094813  gate_40              40        False        False"
      ]
     },
     "execution_count": 131,
     "metadata": {},
     "output_type": "execute_result"
    }
   ],
   "source": [
    "c_ret2 = usuarios[usuarios.version=='gate_30'].sample(n=8279)\n",
    "t_ret2= usuarios[usuarios.version=='gate_40'].sample(n=8279)\n",
    "ab_test_2=pd.concat([c_ret2, t_ret2], axis=0)\n",
    "ab_test_2.tail()\n",
    "\n"
   ]
  },
  {
   "cell_type": "code",
   "execution_count": null,
   "id": "f365968e",
   "metadata": {},
   "outputs": [],
   "source": []
  },
  {
   "cell_type": "code",
   "execution_count": 134,
   "id": "66506388",
   "metadata": {},
   "outputs": [
    {
     "data": {
      "text/html": [
       "<style type=\"text/css\">\n",
       "</style>\n",
       "<table id=\"T_67c5f_\">\n",
       "  <thead>\n",
       "    <tr>\n",
       "      <th class=\"blank level0\" >&nbsp;</th>\n",
       "      <th class=\"col_heading level0 col0\" >conversion_rate</th>\n",
       "      <th class=\"col_heading level0 col1\" >std</th>\n",
       "      <th class=\"col_heading level0 col2\" >std_error</th>\n",
       "    </tr>\n",
       "    <tr>\n",
       "      <th class=\"index_name level0\" >version</th>\n",
       "      <th class=\"blank col0\" >&nbsp;</th>\n",
       "      <th class=\"blank col1\" >&nbsp;</th>\n",
       "      <th class=\"blank col2\" >&nbsp;</th>\n",
       "    </tr>\n",
       "  </thead>\n",
       "  <tbody>\n",
       "    <tr>\n",
       "      <th id=\"T_67c5f_level0_row0\" class=\"row_heading level0 row0\" >gate_30</th>\n",
       "      <td id=\"T_67c5f_row0_col0\" class=\"data row0 col0\" >0.185</td>\n",
       "      <td id=\"T_67c5f_row0_col1\" class=\"data row0 col1\" >0.388</td>\n",
       "      <td id=\"T_67c5f_row0_col2\" class=\"data row0 col2\" >0.004</td>\n",
       "    </tr>\n",
       "    <tr>\n",
       "      <th id=\"T_67c5f_level0_row1\" class=\"row_heading level0 row1\" >gate_40</th>\n",
       "      <td id=\"T_67c5f_row1_col0\" class=\"data row1 col0\" >0.182</td>\n",
       "      <td id=\"T_67c5f_row1_col1\" class=\"data row1 col1\" >0.386</td>\n",
       "      <td id=\"T_67c5f_row1_col2\" class=\"data row1 col2\" >0.004</td>\n",
       "    </tr>\n",
       "  </tbody>\n",
       "</table>\n"
      ],
      "text/plain": [
       "<pandas.io.formats.style.Styler at 0x7f7cd6b14fa0>"
      ]
     },
     "execution_count": 134,
     "metadata": {},
     "output_type": "execute_result"
    }
   ],
   "source": [
    "tasas_conversion=ab_test_2.groupby('version')['retention_7'] # agrupo por grupo\n",
    "\n",
    "std=lambda x: np.std(x, ddof=0)    # std\n",
    "\n",
    "error_std=lambda x: stats.sem(x, ddof=0)   # error standard , (std/sqrt(n))\n",
    "\n",
    "tasas_conversion=tasas_conversion.agg([np.mean, std, error_std])\n",
    "tasas_conversion.columns=['conversion_rate', 'std', 'std_error']\n",
    "\n",
    "\n",
    "tasas_conversion.style.format('{:.3f}')"
   ]
  },
  {
   "cell_type": "code",
   "execution_count": 139,
   "id": "8d2231d8",
   "metadata": {},
   "outputs": [
    {
     "data": {
      "text/plain": [
       "Text(0, 0.5, 'Convertido (proporción)')"
      ]
     },
     "execution_count": 139,
     "metadata": {},
     "output_type": "execute_result"
    },
    {
     "data": {
      "image/png": "[encoded data removed]",
      "text/plain": [
       "<Figure size 576x432 with 1 Axes>"
      ]
     },
     "metadata": {
      "needs_background": "light"
     },
     "output_type": "display_data"
    }
   ],
   "source": [
    "plt.figure(figsize=(8,6))   #más grande\n",
    "\n",
    "sns.barplot(x=ab_test_1['version'], \n",
    "            y=ab_test_1['retention_7'])\n",
    "\n",
    "# plt.ylim(0, 0.17)\n",
    "plt.title('Conversión')\n",
    "plt.xlabel('Grupo')\n",
    "plt.ylabel('Convertido (proporción)')"
   ]
  },
  {
   "cell_type": "code",
   "execution_count": 148,
   "id": "d7e27555",
   "metadata": {},
   "outputs": [],
   "source": [
    "ab_test_7=pd.concat([c_ret1, t_ret1], axis=0)"
   ]
  },
  {
   "cell_type": "code",
   "execution_count": 149,
   "id": "ea0c9f77",
   "metadata": {},
   "outputs": [],
   "source": [
    "#significance\n",
    "c_res_7=ab_test_1[ab_test_7.version=='gate_30']['retention_7']  #c es control\n",
    "\n",
    "t_res_7=ab_test_1[ab_test_7.version=='gate_40']['retention_7']"
   ]
  },
  {
   "cell_type": "code",
   "execution_count": 151,
   "id": "7bbc89ff",
   "metadata": {},
   "outputs": [
    {
     "name": "stdout",
     "output_type": "stream",
     "text": [
      "[3888, 3569]\n",
      "4.930042899561105\n"
     ]
    }
   ],
   "source": [
    "obs_7=[8502, 8502] \n",
    "\n",
    "conv_7=[c_res_7.sum(), t_res_7.sum()]   # conversiones por grupo\n",
    "print(conv_7)\n",
    "\n",
    "z_score, p_valor = proportions_ztest(conv_7, nobs=obs_7)  # diferencia significativa\n",
    "print(z_score)\n",
    "\n",
    "\n",
    "# intervalos de confianza\n",
    "\n",
    "(c_a, t_a), (c_b, t_b)  = proportion_confint(conv_7,  nobs=obs_7, alpha=0.05)\n",
    "\n",
    "\n"
   ]
  },
  {
   "cell_type": "code",
   "execution_count": 152,
   "id": "323a26c1",
   "metadata": {},
   "outputs": [
    {
     "name": "stdout",
     "output_type": "stream",
     "text": [
      "z-score: 4.93\n",
      "p-valor: 0.000\n",
      "95% para grupo control: [0.447, 0.468]\n",
      "95% para grupo test: [0.409, 0.430]\n"
     ]
    }
   ],
   "source": [
    "print(f'z-score: {z_score:.2f}')\n",
    "print(f'p-valor: {p_valor:.3f}')    \n",
    "print(f'95% para grupo control: [{c_a:.3f}, {c_b:.3f}]')\n",
    "print(f'95% para grupo test: [{t_a:.3f}, {t_b:.3f}]')"
   ]
  },
  {
   "cell_type": "code",
   "execution_count": null,
   "id": "55aa8412",
   "metadata": {},
   "outputs": [],
   "source": [
    "#El p valor da cero pero no sé si eso puede ser"
   ]
  },
  {
   "cell_type": "code",
   "execution_count": null,
   "id": "12491a2a",
   "metadata": {},
   "outputs": [],
   "source": []
  }
 ],
 "metadata": {
  "finalized": {
   "timestamp": 1642857010293,
   "trusted": true
  },
  "kernelspec": {
   "display_name": "Python 3 (ipykernel)",
   "language": "python",
   "name": "python3"
  },
  "language_info": {
   "codemirror_mode": {
    "name": "ipython",
    "version": 3
   },
   "file_extension": ".py",
   "mimetype": "text/x-python",
   "name": "python",
   "nbconvert_exporter": "python",
   "pygments_lexer": "ipython3",
   "version": "3.9.7"
  },
  "toc": {
   "base_numbering": 1,
   "nav_menu": {},
   "number_sections": true,
   "sideBar": true,
   "skip_h1_title": false,
   "title_cell": "Table of Contents",
   "title_sidebar": "Contents",
   "toc_cell": true,
   "toc_position": {},
   "toc_section_display": true,
   "toc_window_display": false
  },
  "varInspector": {
   "cols": {
    "lenName": 16,
    "lenType": 16,
    "lenVar": 40
   },
   "kernels_config": {
    "python": {
     "delete_cmd_postfix": "",
     "delete_cmd_prefix": "del ",
     "library": "var_list.py",
     "varRefreshCmd": "print(var_dic_list())"
    },
    "r": {
     "delete_cmd_postfix": ") ",
     "delete_cmd_prefix": "rm(",
     "library": "var_list.r",
     "varRefreshCmd": "cat(var_dic_list()) "
    }
   },
   "types_to_exclude": [
    "module",
    "function",
    "builtin_function_or_method",
    "instance",
    "_Feature"
   ],
   "window_display": false
  }
 },
 "nbformat": 4,
 "nbformat_minor": 5
}
