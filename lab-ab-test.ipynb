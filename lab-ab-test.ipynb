{
 "cells": [
  {
   "cell_type": "markdown",
   "id": "angry-pearl",
   "metadata": {
    "toc": true
   },
   "source": [
    "<h1>Table of Contents<span class=\"tocSkip\"></span></h1>\n",
    "<div class=\"toc\"><ul class=\"toc-item\"><li><span><a href=\"#AB-Testing\" data-toc-modified-id=\"AB-Testing-1\"><span class=\"toc-item-num\">1&nbsp;&nbsp;</span>AB-Testing</a></span></li></ul></div>"
   ]
  },
  {
   "cell_type": "markdown",
   "id": "c92ba6e0",
   "metadata": {},
   "source": [
    "# AB-Testing\n",
    "\n",
    "![cats](images/cats.jpeg)\n",
    "\n",
    "\n",
    "Imaginad que somos los cientificos de datos de la empresa de videojuegos Tactile Entertainment. Los desarrolladores del juego Cookie Cats pretenden introducir un cambio en el juego para aumentar la retencion de los jugadores. En cierto nivel del juego los jugadores se encuentran una puerta que les obliga a esperar o a pagar la app. Actualmente la puerta se encuentra en nivel 30 y se pretende pasar al nivel 40, para comprobar la retencion a 1 y 7 dias. Antes de realizar el cambio definitivo en el juego se raliza un test AB.\n",
    "\n",
    "Los datos estan alojados en `data/cookie_cats.csv`. Nuestro grupo de control sera la version actual `gate_30` y el grupo de tratamiento sera la version `gate_40`. Debemos realizar el test para 1 dia de retencion `retention_1` y para 7 dias `retention_7`."
   ]
  },
  {
   "cell_type": "code",
   "execution_count": 90,
   "id": "ac3b2f52",
   "metadata": {},
   "outputs": [],
   "source": [
    "import numpy as np\n",
    "import pandas as pd\n",
    "\n",
    "import scipy.stats as stats\n",
    "import statsmodels.stats.api as sms\n",
    "\n",
    "import pylab as plt\n",
    "import seaborn as sns\n",
    "\n",
    "from scipy.stats import norm\n",
    "from scipy.stats import bernoulli, beta\n",
    "\n",
    "%matplotlib inline"
   ]
  },
  {
   "cell_type": "code",
   "execution_count": 91,
   "id": "732f1a37",
   "metadata": {},
   "outputs": [
    {
     "data": {
      "text/html": [
       "<div>\n",
       "<style scoped>\n",
       "    .dataframe tbody tr th:only-of-type {\n",
       "        vertical-align: middle;\n",
       "    }\n",
       "\n",
       "    .dataframe tbody tr th {\n",
       "        vertical-align: top;\n",
       "    }\n",
       "\n",
       "    .dataframe thead th {\n",
       "        text-align: right;\n",
       "    }\n",
       "</style>\n",
       "<table border=\"1\" class=\"dataframe\">\n",
       "  <thead>\n",
       "    <tr style=\"text-align: right;\">\n",
       "      <th></th>\n",
       "      <th>userid</th>\n",
       "      <th>version</th>\n",
       "      <th>sum_gamerounds</th>\n",
       "      <th>retention_1</th>\n",
       "      <th>retention_7</th>\n",
       "    </tr>\n",
       "  </thead>\n",
       "  <tbody>\n",
       "    <tr>\n",
       "      <th>0</th>\n",
       "      <td>116</td>\n",
       "      <td>gate_30</td>\n",
       "      <td>3</td>\n",
       "      <td>False</td>\n",
       "      <td>False</td>\n",
       "    </tr>\n",
       "    <tr>\n",
       "      <th>1</th>\n",
       "      <td>337</td>\n",
       "      <td>gate_30</td>\n",
       "      <td>38</td>\n",
       "      <td>True</td>\n",
       "      <td>False</td>\n",
       "    </tr>\n",
       "    <tr>\n",
       "      <th>2</th>\n",
       "      <td>377</td>\n",
       "      <td>gate_40</td>\n",
       "      <td>165</td>\n",
       "      <td>True</td>\n",
       "      <td>False</td>\n",
       "    </tr>\n",
       "    <tr>\n",
       "      <th>3</th>\n",
       "      <td>483</td>\n",
       "      <td>gate_40</td>\n",
       "      <td>1</td>\n",
       "      <td>False</td>\n",
       "      <td>False</td>\n",
       "    </tr>\n",
       "    <tr>\n",
       "      <th>4</th>\n",
       "      <td>488</td>\n",
       "      <td>gate_40</td>\n",
       "      <td>179</td>\n",
       "      <td>True</td>\n",
       "      <td>True</td>\n",
       "    </tr>\n",
       "  </tbody>\n",
       "</table>\n",
       "</div>"
      ],
      "text/plain": [
       "   userid  version  sum_gamerounds  retention_1  retention_7\n",
       "0     116  gate_30               3        False        False\n",
       "1     337  gate_30              38         True        False\n",
       "2     377  gate_40             165         True        False\n",
       "3     483  gate_40               1        False        False\n",
       "4     488  gate_40             179         True         True"
      ]
     },
     "execution_count": 91,
     "metadata": {},
     "output_type": "execute_result"
    }
   ],
   "source": [
    "data = pd.read_csv('data/cookie_cats.csv')\n",
    "\n",
    "data.head()"
   ]
  },
  {
   "cell_type": "code",
   "execution_count": 92,
   "id": "a72feeb6",
   "metadata": {},
   "outputs": [
    {
     "name": "stdout",
     "output_type": "stream",
     "text": [
      "<class 'pandas.core.frame.DataFrame'>\n",
      "RangeIndex: 90189 entries, 0 to 90188\n",
      "Data columns (total 5 columns):\n",
      " #   Column          Non-Null Count  Dtype \n",
      "---  ------          --------------  ----- \n",
      " 0   userid          90189 non-null  int64 \n",
      " 1   version         90189 non-null  object\n",
      " 2   sum_gamerounds  90189 non-null  int64 \n",
      " 3   retention_1     90189 non-null  bool  \n",
      " 4   retention_7     90189 non-null  bool  \n",
      "dtypes: bool(2), int64(2), object(1)\n",
      "memory usage: 2.2+ MB\n"
     ]
    }
   ],
   "source": [
    "data.info()"
   ]
  },
  {
   "cell_type": "code",
   "execution_count": 93,
   "id": "7b638b91",
   "metadata": {},
   "outputs": [
    {
     "data": {
      "text/plain": [
       "90189"
      ]
     },
     "execution_count": 93,
     "metadata": {},
     "output_type": "execute_result"
    }
   ],
   "source": [
    "contar = data.userid.unique()\n",
    "\n",
    "len(contar)"
   ]
  },
  {
   "cell_type": "markdown",
   "id": "dade9f7a",
   "metadata": {},
   "source": [
    "No hay usuarios en gate30 y en gate40, ya que los valores únicos de userid es igual al número de filas que tenemos en el dataframe."
   ]
  },
  {
   "cell_type": "code",
   "execution_count": 94,
   "id": "0d3615c2",
   "metadata": {},
   "outputs": [
    {
     "data": {
      "text/plain": [
       "gate_40    45489\n",
       "gate_30    44700\n",
       "Name: version, dtype: int64"
      ]
     },
     "execution_count": 94,
     "metadata": {},
     "output_type": "execute_result"
    }
   ],
   "source": [
    "data.version.value_counts()"
   ]
  },
  {
   "cell_type": "code",
   "execution_count": 95,
   "id": "269a12cc",
   "metadata": {},
   "outputs": [
    {
     "data": {
      "text/html": [
       "<div>\n",
       "<style scoped>\n",
       "    .dataframe tbody tr th:only-of-type {\n",
       "        vertical-align: middle;\n",
       "    }\n",
       "\n",
       "    .dataframe tbody tr th {\n",
       "        vertical-align: top;\n",
       "    }\n",
       "\n",
       "    .dataframe thead th {\n",
       "        text-align: right;\n",
       "    }\n",
       "</style>\n",
       "<table border=\"1\" class=\"dataframe\">\n",
       "  <thead>\n",
       "    <tr style=\"text-align: right;\">\n",
       "      <th></th>\n",
       "      <th>userid</th>\n",
       "      <th>version</th>\n",
       "      <th>retention_1</th>\n",
       "    </tr>\n",
       "  </thead>\n",
       "  <tbody>\n",
       "    <tr>\n",
       "      <th>0</th>\n",
       "      <td>116</td>\n",
       "      <td>gate_30</td>\n",
       "      <td>False</td>\n",
       "    </tr>\n",
       "    <tr>\n",
       "      <th>1</th>\n",
       "      <td>337</td>\n",
       "      <td>gate_30</td>\n",
       "      <td>True</td>\n",
       "    </tr>\n",
       "    <tr>\n",
       "      <th>2</th>\n",
       "      <td>377</td>\n",
       "      <td>gate_40</td>\n",
       "      <td>True</td>\n",
       "    </tr>\n",
       "    <tr>\n",
       "      <th>3</th>\n",
       "      <td>483</td>\n",
       "      <td>gate_40</td>\n",
       "      <td>False</td>\n",
       "    </tr>\n",
       "    <tr>\n",
       "      <th>4</th>\n",
       "      <td>488</td>\n",
       "      <td>gate_40</td>\n",
       "      <td>True</td>\n",
       "    </tr>\n",
       "    <tr>\n",
       "      <th>5</th>\n",
       "      <td>540</td>\n",
       "      <td>gate_40</td>\n",
       "      <td>True</td>\n",
       "    </tr>\n",
       "    <tr>\n",
       "      <th>6</th>\n",
       "      <td>1066</td>\n",
       "      <td>gate_30</td>\n",
       "      <td>False</td>\n",
       "    </tr>\n",
       "    <tr>\n",
       "      <th>7</th>\n",
       "      <td>1444</td>\n",
       "      <td>gate_40</td>\n",
       "      <td>False</td>\n",
       "    </tr>\n",
       "    <tr>\n",
       "      <th>8</th>\n",
       "      <td>1574</td>\n",
       "      <td>gate_40</td>\n",
       "      <td>True</td>\n",
       "    </tr>\n",
       "    <tr>\n",
       "      <th>9</th>\n",
       "      <td>1587</td>\n",
       "      <td>gate_40</td>\n",
       "      <td>True</td>\n",
       "    </tr>\n",
       "  </tbody>\n",
       "</table>\n",
       "</div>"
      ],
      "text/plain": [
       "   userid  version  retention_1\n",
       "0     116  gate_30        False\n",
       "1     337  gate_30         True\n",
       "2     377  gate_40         True\n",
       "3     483  gate_40        False\n",
       "4     488  gate_40         True\n",
       "5     540  gate_40         True\n",
       "6    1066  gate_30        False\n",
       "7    1444  gate_40        False\n",
       "8    1574  gate_40         True\n",
       "9    1587  gate_40         True"
      ]
     },
     "execution_count": 95,
     "metadata": {},
     "output_type": "execute_result"
    }
   ],
   "source": [
    "unDia = data.loc[:,['userid','version','retention_1']]\n",
    "\n",
    "unDia.head(10)"
   ]
  },
  {
   "cell_type": "code",
   "execution_count": 96,
   "id": "4e0baac0",
   "metadata": {
    "scrolled": true
   },
   "outputs": [
    {
     "data": {
      "text/html": [
       "<div>\n",
       "<style scoped>\n",
       "    .dataframe tbody tr th:only-of-type {\n",
       "        vertical-align: middle;\n",
       "    }\n",
       "\n",
       "    .dataframe tbody tr th {\n",
       "        vertical-align: top;\n",
       "    }\n",
       "\n",
       "    .dataframe thead th {\n",
       "        text-align: right;\n",
       "    }\n",
       "</style>\n",
       "<table border=\"1\" class=\"dataframe\">\n",
       "  <thead>\n",
       "    <tr style=\"text-align: right;\">\n",
       "      <th></th>\n",
       "      <th>userid</th>\n",
       "      <th>version</th>\n",
       "      <th>retention_7</th>\n",
       "    </tr>\n",
       "  </thead>\n",
       "  <tbody>\n",
       "    <tr>\n",
       "      <th>0</th>\n",
       "      <td>116</td>\n",
       "      <td>gate_30</td>\n",
       "      <td>False</td>\n",
       "    </tr>\n",
       "    <tr>\n",
       "      <th>1</th>\n",
       "      <td>337</td>\n",
       "      <td>gate_30</td>\n",
       "      <td>False</td>\n",
       "    </tr>\n",
       "    <tr>\n",
       "      <th>2</th>\n",
       "      <td>377</td>\n",
       "      <td>gate_40</td>\n",
       "      <td>False</td>\n",
       "    </tr>\n",
       "    <tr>\n",
       "      <th>3</th>\n",
       "      <td>483</td>\n",
       "      <td>gate_40</td>\n",
       "      <td>False</td>\n",
       "    </tr>\n",
       "    <tr>\n",
       "      <th>4</th>\n",
       "      <td>488</td>\n",
       "      <td>gate_40</td>\n",
       "      <td>True</td>\n",
       "    </tr>\n",
       "    <tr>\n",
       "      <th>5</th>\n",
       "      <td>540</td>\n",
       "      <td>gate_40</td>\n",
       "      <td>True</td>\n",
       "    </tr>\n",
       "    <tr>\n",
       "      <th>6</th>\n",
       "      <td>1066</td>\n",
       "      <td>gate_30</td>\n",
       "      <td>False</td>\n",
       "    </tr>\n",
       "    <tr>\n",
       "      <th>7</th>\n",
       "      <td>1444</td>\n",
       "      <td>gate_40</td>\n",
       "      <td>False</td>\n",
       "    </tr>\n",
       "    <tr>\n",
       "      <th>8</th>\n",
       "      <td>1574</td>\n",
       "      <td>gate_40</td>\n",
       "      <td>True</td>\n",
       "    </tr>\n",
       "    <tr>\n",
       "      <th>9</th>\n",
       "      <td>1587</td>\n",
       "      <td>gate_40</td>\n",
       "      <td>False</td>\n",
       "    </tr>\n",
       "  </tbody>\n",
       "</table>\n",
       "</div>"
      ],
      "text/plain": [
       "   userid  version  retention_7\n",
       "0     116  gate_30        False\n",
       "1     337  gate_30        False\n",
       "2     377  gate_40        False\n",
       "3     483  gate_40        False\n",
       "4     488  gate_40         True\n",
       "5     540  gate_40         True\n",
       "6    1066  gate_30        False\n",
       "7    1444  gate_40        False\n",
       "8    1574  gate_40         True\n",
       "9    1587  gate_40        False"
      ]
     },
     "execution_count": 96,
     "metadata": {},
     "output_type": "execute_result"
    }
   ],
   "source": [
    "sieteDias = data.loc[:,['userid','version','retention_7']]\n",
    "\n",
    "sieteDias.head(10)"
   ]
  },
  {
   "cell_type": "markdown",
   "id": "5895d980",
   "metadata": {},
   "source": [
    "### TEST DESPUÉS DE UN DÍA"
   ]
  },
  {
   "cell_type": "code",
   "execution_count": 121,
   "id": "f1094ae9",
   "metadata": {},
   "outputs": [
    {
     "data": {
      "text/html": [
       "<style type=\"text/css\">\n",
       "</style>\n",
       "<table id=\"T_1d624_\">\n",
       "  <thead>\n",
       "    <tr>\n",
       "      <th class=\"blank level0\" >&nbsp;</th>\n",
       "      <th class=\"col_heading level0 col0\" >conversion_rate</th>\n",
       "      <th class=\"col_heading level0 col1\" >std</th>\n",
       "      <th class=\"col_heading level0 col2\" >std_error</th>\n",
       "    </tr>\n",
       "    <tr>\n",
       "      <th class=\"index_name level0\" >version</th>\n",
       "      <th class=\"blank col0\" >&nbsp;</th>\n",
       "      <th class=\"blank col1\" >&nbsp;</th>\n",
       "      <th class=\"blank col2\" >&nbsp;</th>\n",
       "    </tr>\n",
       "  </thead>\n",
       "  <tbody>\n",
       "    <tr>\n",
       "      <th id=\"T_1d624_level0_row0\" class=\"row_heading level0 row0\" >gate_30</th>\n",
       "      <td id=\"T_1d624_row0_col0\" class=\"data row0 col0\" >0.448</td>\n",
       "      <td id=\"T_1d624_row0_col1\" class=\"data row0 col1\" >0.497</td>\n",
       "      <td id=\"T_1d624_row0_col2\" class=\"data row0 col2\" >0.002</td>\n",
       "    </tr>\n",
       "    <tr>\n",
       "      <th id=\"T_1d624_level0_row1\" class=\"row_heading level0 row1\" >gate_40</th>\n",
       "      <td id=\"T_1d624_row1_col0\" class=\"data row1 col0\" >0.442</td>\n",
       "      <td id=\"T_1d624_row1_col1\" class=\"data row1 col1\" >0.497</td>\n",
       "      <td id=\"T_1d624_row1_col2\" class=\"data row1 col2\" >0.002</td>\n",
       "    </tr>\n",
       "  </tbody>\n",
       "</table>\n"
      ],
      "text/plain": [
       "<pandas.io.formats.style.Styler at 0x7fadb0469ee0>"
      ]
     },
     "execution_count": 121,
     "metadata": {},
     "output_type": "execute_result"
    }
   ],
   "source": [
    "tasas_conversion = unDia.groupby('version')['retention_1']\n",
    "\n",
    "std = lambda x: np.std(x, ddof = 0)\n",
    "error_std = lambda x: stats.sem(x, ddof = 0)\n",
    "\n",
    "tasas_conversion = tasas_conversion.agg([np.mean, std, error_std])\n",
    "tasas_conversion.columns = ['conversion_rate', 'std', 'std_error']\n",
    "\n",
    "\n",
    "tasas_conversion.style.format('{:.3f}')"
   ]
  },
  {
   "cell_type": "code",
   "execution_count": 122,
   "id": "99416c5c",
   "metadata": {},
   "outputs": [
    {
     "data": {
      "image/png": "[encoded data removed]",
      "text/plain": [
       "<Figure size 576x432 with 1 Axes>"
      ]
     },
     "metadata": {
      "needs_background": "light"
     },
     "output_type": "display_data"
    }
   ],
   "source": [
    "plt.figure(figsize = (8,6))\n",
    "\n",
    "sns.barplot(x = unDia['version'], \n",
    "            y = unDia['retention_1'])\n",
    "\n",
    "plt.ylim(0, 0.6)\n",
    "plt.title('Tasa de conversión por grupo')\n",
    "plt.xlabel('Grupo')\n",
    "plt.ylabel('Convertido (proporción)');"
   ]
  },
  {
   "cell_type": "markdown",
   "id": "13fb6462",
   "metadata": {},
   "source": [
    "Las tasas de conversión para ambos grupos están muy cerca, pero MUY ligeramente, más alta la del grupo de control. Por lo que tanto, los jugadores volvieron a abrir la aplicación en ambos casos."
   ]
  },
  {
   "cell_type": "code",
   "execution_count": 118,
   "id": "5f0514fc",
   "metadata": {},
   "outputs": [
    {
     "name": "stdout",
     "output_type": "stream",
     "text": [
      "z-score: 1.78\n",
      "p-valor: 0.074\n",
      "intervalo conf 95% para grupo control: [0.444, 0.453]\n",
      "intervalo conf 95% para grupo tratamiento: [0.438, 0.447]\n"
     ]
    }
   ],
   "source": [
    "control = unDia[unDia.version == 'gate_30']['retention_1']\n",
    "tratamiento = unDia[unDia.version == 'gate_40']['retention_1']\n",
    "\n",
    "numControl = control.count()\n",
    "numTratamiento = tratamiento.count()\n",
    "\n",
    "conversiones = [control.sum(), tratamiento.sum()]\n",
    "\n",
    "observaciones = [numControl, numTratamiento]\n",
    "\n",
    "z_score, p_value = proportions_ztest(conversiones, nobs = observaciones)\n",
    "\n",
    "(control_a, tratamiento_a), (control_b, tratamiento_b) = proportion_confint(conversiones, nobs = observaciones, alpha = 0.05)\n",
    "\n",
    "print(f'z-score: {z_score:.2f}')\n",
    "print(f'p-valor: {p_value:.3f}')\n",
    "print(f'intervalo conf 95% para grupo control: [{control_a:.3f}, {control_b:.3f}]')\n",
    "print(f'intervalo conf 95% para grupo tratamiento: [{tratamiento_a:.3f}, {tratamiento_b:.3f}]')"
   ]
  },
  {
   "cell_type": "code",
   "execution_count": 119,
   "id": "e271039c",
   "metadata": {},
   "outputs": [
    {
     "data": {
      "text/html": [
       "<div>\n",
       "<style scoped>\n",
       "    .dataframe tbody tr th:only-of-type {\n",
       "        vertical-align: middle;\n",
       "    }\n",
       "\n",
       "    .dataframe tbody tr th {\n",
       "        vertical-align: top;\n",
       "    }\n",
       "\n",
       "    .dataframe thead th {\n",
       "        text-align: right;\n",
       "    }\n",
       "</style>\n",
       "<table border=\"1\" class=\"dataframe\">\n",
       "  <thead>\n",
       "    <tr style=\"text-align: right;\">\n",
       "      <th></th>\n",
       "      <th>conversion_rate</th>\n",
       "      <th>std</th>\n",
       "      <th>std_error</th>\n",
       "    </tr>\n",
       "    <tr>\n",
       "      <th>version</th>\n",
       "      <th></th>\n",
       "      <th></th>\n",
       "      <th></th>\n",
       "    </tr>\n",
       "  </thead>\n",
       "  <tbody>\n",
       "    <tr>\n",
       "      <th>gate_30</th>\n",
       "      <td>0.448188</td>\n",
       "      <td>0.497308</td>\n",
       "      <td>0.002352</td>\n",
       "    </tr>\n",
       "    <tr>\n",
       "      <th>gate_40</th>\n",
       "      <td>0.442283</td>\n",
       "      <td>0.496658</td>\n",
       "      <td>0.002329</td>\n",
       "    </tr>\n",
       "  </tbody>\n",
       "</table>\n",
       "</div>"
      ],
      "text/plain": [
       "         conversion_rate       std  std_error\n",
       "version                                      \n",
       "gate_30         0.448188  0.497308   0.002352\n",
       "gate_40         0.442283  0.496658   0.002329"
      ]
     },
     "execution_count": 119,
     "metadata": {},
     "output_type": "execute_result"
    }
   ],
   "source": [
    "tasas_conversion"
   ]
  },
  {
   "cell_type": "code",
   "execution_count": 120,
   "id": "85431265",
   "metadata": {},
   "outputs": [
    {
     "data": {
      "image/png": "[encoded data removed]",
      "text/plain": [
       "<Figure size 1080x576 with 1 Axes>"
      ]
     },
     "metadata": {
      "needs_background": "light"
     },
     "output_type": "display_data"
    }
   ],
   "source": [
    "x = [i*.1 for i in range(-10, 20)]  \n",
    "\n",
    "control = [norm.pdf(x, tasas_conversion.iloc[0][0], tasas_conversion.iloc[0][1]) for x in x] \n",
    "\n",
    "tratamiento = [norm.pdf(x, tasas_conversion.iloc[1][0], tasas_conversion.iloc[1][1]) for x in x] \n",
    "\n",
    "plt.plot(x, control)\n",
    "plt.plot(x, tratamiento)\n",
    "plt.rcParams['figure.figsize']=(15, 8)\n",
    "plt.legend(['control', 'tratamiento']);\n"
   ]
  },
  {
   "cell_type": "markdown",
   "id": "20673f98",
   "metadata": {},
   "source": [
    "### TEST A LOS SIETE DÍAS"
   ]
  },
  {
   "cell_type": "code",
   "execution_count": 123,
   "id": "7296b315",
   "metadata": {},
   "outputs": [
    {
     "data": {
      "text/html": [
       "<style type=\"text/css\">\n",
       "</style>\n",
       "<table id=\"T_a5917_\">\n",
       "  <thead>\n",
       "    <tr>\n",
       "      <th class=\"blank level0\" >&nbsp;</th>\n",
       "      <th class=\"col_heading level0 col0\" >conversion_rate</th>\n",
       "      <th class=\"col_heading level0 col1\" >std</th>\n",
       "      <th class=\"col_heading level0 col2\" >std_error</th>\n",
       "    </tr>\n",
       "    <tr>\n",
       "      <th class=\"index_name level0\" >version</th>\n",
       "      <th class=\"blank col0\" >&nbsp;</th>\n",
       "      <th class=\"blank col1\" >&nbsp;</th>\n",
       "      <th class=\"blank col2\" >&nbsp;</th>\n",
       "    </tr>\n",
       "  </thead>\n",
       "  <tbody>\n",
       "    <tr>\n",
       "      <th id=\"T_a5917_level0_row0\" class=\"row_heading level0 row0\" >gate_30</th>\n",
       "      <td id=\"T_a5917_row0_col0\" class=\"data row0 col0\" >0.190</td>\n",
       "      <td id=\"T_a5917_row0_col1\" class=\"data row0 col1\" >0.392</td>\n",
       "      <td id=\"T_a5917_row0_col2\" class=\"data row0 col2\" >0.002</td>\n",
       "    </tr>\n",
       "    <tr>\n",
       "      <th id=\"T_a5917_level0_row1\" class=\"row_heading level0 row1\" >gate_40</th>\n",
       "      <td id=\"T_a5917_row1_col0\" class=\"data row1 col0\" >0.182</td>\n",
       "      <td id=\"T_a5917_row1_col1\" class=\"data row1 col1\" >0.386</td>\n",
       "      <td id=\"T_a5917_row1_col2\" class=\"data row1 col2\" >0.002</td>\n",
       "    </tr>\n",
       "  </tbody>\n",
       "</table>\n"
      ],
      "text/plain": [
       "<pandas.io.formats.style.Styler at 0x7fadb095cdf0>"
      ]
     },
     "execution_count": 123,
     "metadata": {},
     "output_type": "execute_result"
    }
   ],
   "source": [
    "tasas_conversion = sieteDias.groupby('version')['retention_7']\n",
    "\n",
    "std = lambda x: np.std(x, ddof = 0)\n",
    "error_std = lambda x: stats.sem(x, ddof = 0)\n",
    "\n",
    "tasas_conversion = tasas_conversion.agg([np.mean, std, error_std])\n",
    "tasas_conversion.columns = ['conversion_rate', 'std', 'std_error']\n",
    "\n",
    "\n",
    "tasas_conversion.style.format('{:.3f}')"
   ]
  },
  {
   "cell_type": "code",
   "execution_count": 124,
   "id": "a483396c",
   "metadata": {},
   "outputs": [
    {
     "data": {
      "image/png": "[encoded data removed]",
      "text/plain": [
       "<Figure size 576x432 with 1 Axes>"
      ]
     },
     "metadata": {
      "needs_background": "light"
     },
     "output_type": "display_data"
    }
   ],
   "source": [
    "plt.figure(figsize = (8,6))\n",
    "\n",
    "sns.barplot(x = sieteDias['version'], \n",
    "            y = sieteDias['retention_7'])\n",
    "\n",
    "plt.ylim(0, 0.25)\n",
    "plt.title('Tasa de conversión por grupo')\n",
    "plt.xlabel('Grupo')\n",
    "plt.ylabel('Convertido (proporción)');"
   ]
  },
  {
   "cell_type": "markdown",
   "id": "1d0d7a8c",
   "metadata": {},
   "source": [
    "Las tasas de conversión para ambos grupos siguen muy cerca, pero es algo más alta la del grupo de control, esta vez es más apreciable.\n",
    "El grupo de control es más probable que abra la aplicación después de 7 días de instalar el juego."
   ]
  },
  {
   "cell_type": "code",
   "execution_count": 125,
   "id": "c5f0dab0",
   "metadata": {},
   "outputs": [
    {
     "name": "stdout",
     "output_type": "stream",
     "text": [
      "z-score: 3.16\n",
      "p-valor: 0.002\n",
      "intervalo conf 95% para grupo control: [0.187, 0.194]\n",
      "intervalo conf 95% para grupo tratamiento: [0.178, 0.186]\n"
     ]
    }
   ],
   "source": [
    "control = sieteDias[sieteDias.version == 'gate_30']['retention_7']\n",
    "tratamiento = sieteDias[sieteDias.version == 'gate_40']['retention_7']\n",
    "\n",
    "numControl = control.count()\n",
    "numTratamiento = tratamiento.count()\n",
    "\n",
    "conversiones = [control.sum(), tratamiento.sum()]\n",
    "\n",
    "observaciones = [numControl, numTratamiento]\n",
    "\n",
    "z_score, p_value = proportions_ztest(conversiones, nobs = observaciones)\n",
    "\n",
    "(control_a, tratamiento_a), (control_b, tratamiento_b) = proportion_confint(conversiones, nobs = observaciones, alpha = 0.05)\n",
    "\n",
    "print(f'z-score: {z_score:.2f}')\n",
    "print(f'p-valor: {p_value:.3f}')\n",
    "print(f'intervalo conf 95% para grupo control: [{control_a:.3f}, {control_b:.3f}]')\n",
    "print(f'intervalo conf 95% para grupo tratamiento: [{tratamiento_a:.3f}, {tratamiento_b:.3f}]')"
   ]
  },
  {
   "cell_type": "code",
   "execution_count": 126,
   "id": "90d46e05",
   "metadata": {},
   "outputs": [
    {
     "data": {
      "text/html": [
       "<div>\n",
       "<style scoped>\n",
       "    .dataframe tbody tr th:only-of-type {\n",
       "        vertical-align: middle;\n",
       "    }\n",
       "\n",
       "    .dataframe tbody tr th {\n",
       "        vertical-align: top;\n",
       "    }\n",
       "\n",
       "    .dataframe thead th {\n",
       "        text-align: right;\n",
       "    }\n",
       "</style>\n",
       "<table border=\"1\" class=\"dataframe\">\n",
       "  <thead>\n",
       "    <tr style=\"text-align: right;\">\n",
       "      <th></th>\n",
       "      <th>conversion_rate</th>\n",
       "      <th>std</th>\n",
       "      <th>std_error</th>\n",
       "    </tr>\n",
       "    <tr>\n",
       "      <th>version</th>\n",
       "      <th></th>\n",
       "      <th></th>\n",
       "      <th></th>\n",
       "    </tr>\n",
       "  </thead>\n",
       "  <tbody>\n",
       "    <tr>\n",
       "      <th>gate_30</th>\n",
       "      <td>0.190201</td>\n",
       "      <td>0.392460</td>\n",
       "      <td>0.001856</td>\n",
       "    </tr>\n",
       "    <tr>\n",
       "      <th>gate_40</th>\n",
       "      <td>0.182000</td>\n",
       "      <td>0.385845</td>\n",
       "      <td>0.001809</td>\n",
       "    </tr>\n",
       "  </tbody>\n",
       "</table>\n",
       "</div>"
      ],
      "text/plain": [
       "         conversion_rate       std  std_error\n",
       "version                                      \n",
       "gate_30         0.190201  0.392460   0.001856\n",
       "gate_40         0.182000  0.385845   0.001809"
      ]
     },
     "execution_count": 126,
     "metadata": {},
     "output_type": "execute_result"
    }
   ],
   "source": [
    "tasas_conversion"
   ]
  },
  {
   "cell_type": "code",
   "execution_count": 127,
   "id": "fe860833",
   "metadata": {},
   "outputs": [
    {
     "data": {
      "image/png": "[encoded data removed]",
      "text/plain": [
       "<Figure size 1080x576 with 1 Axes>"
      ]
     },
     "metadata": {
      "needs_background": "light"
     },
     "output_type": "display_data"
    }
   ],
   "source": [
    "x = [i*.1 for i in range(-10, 15)]  \n",
    "\n",
    "control = [norm.pdf(x, tasas_conversion.iloc[0][0], tasas_conversion.iloc[0][1]) for x in x] \n",
    "\n",
    "tratamiento = [norm.pdf(x, tasas_conversion.iloc[1][0], tasas_conversion.iloc[1][1]) for x in x] \n",
    "\n",
    "plt.plot(x, control)\n",
    "plt.plot(x, tratamiento)\n",
    "plt.rcParams['figure.figsize']=(15, 8)\n",
    "plt.legend(['control', 'tratamiento']);"
   ]
  },
  {
   "cell_type": "markdown",
   "id": "b85604c1",
   "metadata": {},
   "source": [
    "# AB TESTING BAYESIANO"
   ]
  },
  {
   "cell_type": "markdown",
   "id": "32121307",
   "metadata": {},
   "source": [
    "### TEST DESPUÉS DE UN DÍA"
   ]
  },
  {
   "cell_type": "code",
   "execution_count": 173,
   "id": "2a974610",
   "metadata": {},
   "outputs": [
    {
     "data": {
      "text/plain": [
       "'TASAS: Control=0.4481879194630872, Tratamiento=0.44228274967574577'"
      ]
     },
     "execution_count": 173,
     "metadata": {},
     "output_type": "execute_result"
    }
   ],
   "source": [
    "control = unDia[unDia.version == 'gate_30']\n",
    "tratamineto = unDia[unDia.version == 'gate_40']\n",
    "\n",
    "imps_ctrl, convs_ctrl = len(control), len(control[control.retention_1 == True])\n",
    "imps_test, convs_test = len(tratamineto), len(tratamineto[tratamineto.retention_1 == True])\n",
    "\n",
    "\n",
    "CR_ctrl = convs_ctrl / imps_ctrl\n",
    "CR_test = convs_test / imps_test\n",
    "\n",
    "f'TASAS: Control={CR_ctrl}, Tratamiento={CR_test}'"
   ]
  },
  {
   "cell_type": "code",
   "execution_count": 174,
   "id": "ca3eafc6",
   "metadata": {},
   "outputs": [],
   "source": [
    "a_C, b_C = convs_ctrl + 1, imps_ctrl - convs_ctrl + 1\n",
    "a_T, b_T = convs_test + 1, imps_test - convs_test + 1\n",
    "\n",
    "beta_control = beta(a_C, b_C)\n",
    "beta_test = beta(a_T, b_T)"
   ]
  },
  {
   "cell_type": "code",
   "execution_count": 175,
   "id": "32c992d6",
   "metadata": {},
   "outputs": [
    {
     "data": {
      "text/plain": [
       "(0.44819023757326293, 0.44228528719966587)"
      ]
     },
     "execution_count": 175,
     "metadata": {},
     "output_type": "execute_result"
    }
   ],
   "source": [
    "beta_control.mean(), beta_test.mean()"
   ]
  },
  {
   "cell_type": "code",
   "execution_count": 176,
   "id": "1c698609",
   "metadata": {},
   "outputs": [],
   "source": [
    "x = np.linspace(0.43, 0.46, 1000)\n",
    "\n",
    "def plot(betas, nombres):\n",
    "    \n",
    "    for bet, nom in zip(betas, nombres):\n",
    "        \n",
    "        y = bet.pdf(x)\n",
    "        y_media = bet.mean()\n",
    "        y_std = bet.std()\n",
    "        \n",
    "        plt.plot(x, y, label = '{}, tasa de conv: {:.6f} $\\pm$ {:.10f}'.format(nom, y_media, y_std))\n",
    "        plt.yticks([])\n",
    "        \n",
    "    plt.legend()\n",
    "    plt.show();\n",
    "    plt.rcParams['figure.figsize']=(15, 8)"
   ]
  },
  {
   "cell_type": "code",
   "execution_count": 177,
   "id": "b06cbff3",
   "metadata": {},
   "outputs": [
    {
     "data": {
      "image/png": "[encoded data removed]",
      "text/plain": [
       "<Figure size 1080x576 with 1 Axes>"
      ]
     },
     "metadata": {
      "needs_background": "light"
     },
     "output_type": "display_data"
    }
   ],
   "source": [
    "plot([beta_control, beta_test], ['control', 'tratamiento'])"
   ]
  },
  {
   "cell_type": "code",
   "execution_count": 178,
   "id": "c3e74a2f",
   "metadata": {},
   "outputs": [
    {
     "data": {
      "text/plain": [
       "-0.013175098158249857"
      ]
     },
     "execution_count": 178,
     "metadata": {},
     "output_type": "execute_result"
    }
   ],
   "source": [
    "salto = (beta_test.mean() - beta_control.mean()) / beta_control.mean()\n",
    "\n",
    "salto"
   ]
  },
  {
   "cell_type": "code",
   "execution_count": 181,
   "id": "af586454",
   "metadata": {},
   "outputs": [],
   "source": [
    "prob = 1 - beta_control.cdf(0.445)"
   ]
  },
  {
   "cell_type": "code",
   "execution_count": 182,
   "id": "ba32ae32",
   "metadata": {},
   "outputs": [
    {
     "data": {
      "text/plain": [
       "'El test disminuye la tasa de retención en un -1.32%, con una probabilidad del 91.25%'"
      ]
     },
     "execution_count": 182,
     "metadata": {},
     "output_type": "execute_result"
    }
   ],
   "source": [
    "'''El test disminuye la tasa de retención en un {:2.2f}%, con una probabilidad del {:2.2f}%'''.format(salto*100, prob*100)"
   ]
  },
  {
   "cell_type": "markdown",
   "id": "0418edda",
   "metadata": {},
   "source": [
    "### TEST DESPUÉS DE SIETE DÍAS"
   ]
  },
  {
   "cell_type": "code",
   "execution_count": 183,
   "id": "73f21c3d",
   "metadata": {},
   "outputs": [
    {
     "data": {
      "text/plain": [
       "'TASAS: Control=0.19020134228187918, Tratamiento=0.18200004396667327'"
      ]
     },
     "execution_count": 183,
     "metadata": {},
     "output_type": "execute_result"
    }
   ],
   "source": [
    "control = sieteDias[sieteDias.version == 'gate_30']\n",
    "tratamineto = sieteDias[sieteDias.version == 'gate_40']\n",
    "\n",
    "imps_ctrl, convs_ctrl = len(control), len(control[control.retention_7 == True])\n",
    "imps_test, convs_test = len(tratamineto), len(tratamineto[tratamineto.retention_7 == True])\n",
    "\n",
    "\n",
    "CR_ctrl = convs_ctrl / imps_ctrl\n",
    "CR_test = convs_test / imps_test\n",
    "\n",
    "f'TASAS: Control={CR_ctrl}, Tratamiento={CR_test}'"
   ]
  },
  {
   "cell_type": "code",
   "execution_count": 264,
   "id": "1aa4020f",
   "metadata": {},
   "outputs": [],
   "source": [
    "a_C, b_C = convs_ctrl + 1, imps_ctrl - convs_ctrl + 1\n",
    "a_T, b_T = convs_test + 1, imps_test - convs_test + 1\n",
    "\n",
    "beta_control = beta(a_C, b_C)\n",
    "beta_test = beta(a_T, b_T)"
   ]
  },
  {
   "cell_type": "code",
   "execution_count": 265,
   "id": "09cd72a7",
   "metadata": {},
   "outputs": [
    {
     "data": {
      "text/plain": [
       "(0.19021520289919913, 0.18201402475214878)"
      ]
     },
     "execution_count": 265,
     "metadata": {},
     "output_type": "execute_result"
    }
   ],
   "source": [
    "beta_control.mean(), beta_test.mean()"
   ]
  },
  {
   "cell_type": "code",
   "execution_count": 266,
   "id": "6a7cd1f9",
   "metadata": {},
   "outputs": [],
   "source": [
    "x = np.linspace(0.17, 0.2, 1000)\n",
    "\n",
    "def plot(betas, nombres):\n",
    "    \n",
    "    for bet, nom in zip(betas, nombres):\n",
    "        \n",
    "        y = bet.pdf(x)\n",
    "        y_media = bet.mean()\n",
    "        y_std = bet.std()\n",
    "        \n",
    "        plt.plot(x, y, label = '{}, tasa de conv: {:.6f} $\\pm$ {:.10f}'.format(nom, y_media, y_std))\n",
    "        plt.yticks([])\n",
    "        \n",
    "    plt.legend()\n",
    "    plt.show();\n",
    "    plt.rcParams['figure.figsize']=(15, 8)"
   ]
  },
  {
   "cell_type": "code",
   "execution_count": 267,
   "id": "0acf10be",
   "metadata": {},
   "outputs": [
    {
     "data": {
      "image/png": "[encoded data removed]",
      "text/plain": [
       "<Figure size 1080x576 with 1 Axes>"
      ]
     },
     "metadata": {
      "needs_background": "light"
     },
     "output_type": "display_data"
    }
   ],
   "source": [
    "plot([beta_control, beta_test], ['control', 'tratamiento'])"
   ]
  },
  {
   "cell_type": "code",
   "execution_count": 276,
   "id": "d6e68c8c",
   "metadata": {},
   "outputs": [
    {
     "data": {
      "text/plain": [
       "-0.04311526114658881"
      ]
     },
     "execution_count": 276,
     "metadata": {},
     "output_type": "execute_result"
    }
   ],
   "source": [
    "salto = (beta_test.mean() - beta_control.mean()) / beta_control.mean()\n",
    "\n",
    "salto"
   ]
  },
  {
   "cell_type": "code",
   "execution_count": 281,
   "id": "35be41c9",
   "metadata": {},
   "outputs": [],
   "source": [
    "prob = 1 - beta_control.cdf(0.186)"
   ]
  },
  {
   "cell_type": "code",
   "execution_count": 282,
   "id": "08e3a34d",
   "metadata": {},
   "outputs": [
    {
     "data": {
      "text/plain": [
       "'El test disminuye la tasa de retención en un -4.31%, con una probabilidad del 98.87%'"
      ]
     },
     "execution_count": 282,
     "metadata": {},
     "output_type": "execute_result"
    }
   ],
   "source": [
    "'''El test disminuye la tasa de retención en un {:2.2f}%, con una probabilidad del {:2.2f}%'''.format(salto*100, prob*100)"
   ]
  },
  {
   "cell_type": "markdown",
   "id": "3b053ad6",
   "metadata": {},
   "source": [
    "## CONCLUSIÓN"
   ]
  },
  {
   "cell_type": "markdown",
   "id": "67b89692",
   "metadata": {},
   "source": [
    "En ambos tests, nos sale un porcentaje de tasa de retención negativa en un alto porcentaje de probabilidad. Por lo que, a priori, no nos interesaría cambiar a la puerta 40 para la retención. Se obtienen mejores resultados dejando la retención en la puerta 30."
   ]
  }
 ],
 "metadata": {
  "finalized": {
   "timestamp": 1642857010293,
   "trusted": true
  },
  "kernelspec": {
   "display_name": "Python 3 (ipykernel)",
   "language": "python",
   "name": "python3"
  },
  "language_info": {
   "codemirror_mode": {
    "name": "ipython",
    "version": 3
   },
   "file_extension": ".py",
   "mimetype": "text/x-python",
   "name": "python",
   "nbconvert_exporter": "python",
   "pygments_lexer": "ipython3",
   "version": "3.9.7"
  },
  "toc": {
   "base_numbering": 1,
   "nav_menu": {},
   "number_sections": true,
   "sideBar": true,
   "skip_h1_title": false,
   "title_cell": "Table of Contents",
   "title_sidebar": "Contents",
   "toc_cell": true,
   "toc_position": {},
   "toc_section_display": true,
   "toc_window_display": false
  },
  "varInspector": {
   "cols": {
    "lenName": 16,
    "lenType": 16,
    "lenVar": 40
   },
   "kernels_config": {
    "python": {
     "delete_cmd_postfix": "",
     "delete_cmd_prefix": "del ",
     "library": "var_list.py",
     "varRefreshCmd": "print(var_dic_list())"
    },
    "r": {
     "delete_cmd_postfix": ") ",
     "delete_cmd_prefix": "rm(",
     "library": "var_list.r",
     "varRefreshCmd": "cat(var_dic_list()) "
    }
   },
   "types_to_exclude": [
    "module",
    "function",
    "builtin_function_or_method",
    "instance",
    "_Feature"
   ],
   "window_display": false
  }
 },
 "nbformat": 4,
 "nbformat_minor": 5
}
