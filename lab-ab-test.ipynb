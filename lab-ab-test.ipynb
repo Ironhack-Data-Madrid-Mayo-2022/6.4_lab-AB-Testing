{
 "cells": [
  {
   "cell_type": "markdown",
   "id": "angry-pearl",
   "metadata": {
    "toc": true
   },
   "source": [
    "<h1>Table of Contents<span class=\"tocSkip\"></span></h1>\n",
    "<div class=\"toc\"><ul class=\"toc-item\"><li><span><a href=\"#AB-Testing\" data-toc-modified-id=\"AB-Testing-1\"><span class=\"toc-item-num\">1&nbsp;&nbsp;</span>AB-Testing</a></span></li></ul></div>"
   ]
  },
  {
   "cell_type": "markdown",
   "id": "c92ba6e0",
   "metadata": {},
   "source": [
    "# AB-Testing\n",
    "\n",
    "![cats](images/cats.jpeg)\n",
    "\n",
    "\n",
    "Imaginad que somos los cientificos de datos de la empresa de videojuegos Tactile Entertainment. Los desarrolladores del juego Cookie Cats pretenden introducir un cambio en el juego para aumentar la retencion de los jugadores. En cierto nivel del juego los jugadores se encuentran una puerta que les obliga a esperar o a pagar la app. Actualmente la puerta se encuentra en nivel 30 y se pretende pasar al nivel 40, para comprobar la retencion a 1 y 7 dias. Antes de realizar el cambio definitivo en el juego se raliza un test AB.\n",
    "\n",
    "Los datos estan alojados en `data/cookie_cats.csv`. Nuestro grupo de control sera la version actual `gate_30` y el grupo de tratamiento sera la version `gate_40`. Debemos realizar el test para 1 dia de retencion `retention_1` y para 7 dias `retention_7`."
   ]
  },
  {
   "cell_type": "code",
   "execution_count": 1,
   "id": "ac3b2f52",
   "metadata": {},
   "outputs": [],
   "source": [
    "# librerias\n",
    "\n",
    "import pandas as pd\n",
    "import numpy as np\n",
    "\n",
    "from statsmodels.stats.proportion import proportions_ztest, proportion_confint\n",
    "from scipy.stats import norm, sem\n",
    "\n",
    "import pylab as plt"
   ]
  },
  {
   "cell_type": "code",
   "execution_count": 5,
   "id": "44308e81",
   "metadata": {},
   "outputs": [],
   "source": [
    "import warnings\n",
    "warnings.simplefilter('ignore')"
   ]
  },
  {
   "cell_type": "code",
   "execution_count": 12,
   "id": "7fe515c2",
   "metadata": {},
   "outputs": [
    {
     "data": {
      "text/html": [
       "<div>\n",
       "<style scoped>\n",
       "    .dataframe tbody tr th:only-of-type {\n",
       "        vertical-align: middle;\n",
       "    }\n",
       "\n",
       "    .dataframe tbody tr th {\n",
       "        vertical-align: top;\n",
       "    }\n",
       "\n",
       "    .dataframe thead th {\n",
       "        text-align: right;\n",
       "    }\n",
       "</style>\n",
       "<table border=\"1\" class=\"dataframe\">\n",
       "  <thead>\n",
       "    <tr style=\"text-align: right;\">\n",
       "      <th></th>\n",
       "      <th>userid</th>\n",
       "      <th>version</th>\n",
       "      <th>sum_gamerounds</th>\n",
       "      <th>retention_1</th>\n",
       "      <th>retention_7</th>\n",
       "    </tr>\n",
       "  </thead>\n",
       "  <tbody>\n",
       "    <tr>\n",
       "      <th>0</th>\n",
       "      <td>116</td>\n",
       "      <td>gate_30</td>\n",
       "      <td>3</td>\n",
       "      <td>False</td>\n",
       "      <td>False</td>\n",
       "    </tr>\n",
       "    <tr>\n",
       "      <th>1</th>\n",
       "      <td>337</td>\n",
       "      <td>gate_30</td>\n",
       "      <td>38</td>\n",
       "      <td>True</td>\n",
       "      <td>False</td>\n",
       "    </tr>\n",
       "    <tr>\n",
       "      <th>2</th>\n",
       "      <td>377</td>\n",
       "      <td>gate_40</td>\n",
       "      <td>165</td>\n",
       "      <td>True</td>\n",
       "      <td>False</td>\n",
       "    </tr>\n",
       "    <tr>\n",
       "      <th>3</th>\n",
       "      <td>483</td>\n",
       "      <td>gate_40</td>\n",
       "      <td>1</td>\n",
       "      <td>False</td>\n",
       "      <td>False</td>\n",
       "    </tr>\n",
       "    <tr>\n",
       "      <th>4</th>\n",
       "      <td>488</td>\n",
       "      <td>gate_40</td>\n",
       "      <td>179</td>\n",
       "      <td>True</td>\n",
       "      <td>True</td>\n",
       "    </tr>\n",
       "  </tbody>\n",
       "</table>\n",
       "</div>"
      ],
      "text/plain": [
       "   userid  version  sum_gamerounds  retention_1  retention_7\n",
       "0     116  gate_30               3        False        False\n",
       "1     337  gate_30              38         True        False\n",
       "2     377  gate_40             165         True        False\n",
       "3     483  gate_40               1        False        False\n",
       "4     488  gate_40             179         True         True"
      ]
     },
     "execution_count": 12,
     "metadata": {},
     "output_type": "execute_result"
    }
   ],
   "source": [
    "# datos\n",
    "usuarios = pd.read_csv('data/cookie_cats.csv')\n",
    "usuarios.head()\n"
   ]
  },
  {
   "cell_type": "code",
   "execution_count": 14,
   "id": "67a54523",
   "metadata": {},
   "outputs": [
    {
     "name": "stdout",
     "output_type": "stream",
     "text": [
      "<class 'pandas.core.frame.DataFrame'>\n",
      "RangeIndex: 90189 entries, 0 to 90188\n",
      "Data columns (total 5 columns):\n",
      " #   Column          Non-Null Count  Dtype \n",
      "---  ------          --------------  ----- \n",
      " 0   userid          90189 non-null  int64 \n",
      " 1   version         90189 non-null  object\n",
      " 2   sum_gamerounds  90189 non-null  int64 \n",
      " 3   retention_1     90189 non-null  bool  \n",
      " 4   retention_7     90189 non-null  bool  \n",
      "dtypes: bool(2), int64(2), object(1)\n",
      "memory usage: 2.2+ MB\n"
     ]
    }
   ],
   "source": [
    "usuarios.info()"
   ]
  },
  {
   "cell_type": "code",
   "execution_count": 19,
   "id": "25da4b31",
   "metadata": {},
   "outputs": [
    {
     "data": {
      "text/plain": [
       "gate_40    45489\n",
       "gate_30    44700\n",
       "Name: version, dtype: int64"
      ]
     },
     "execution_count": 19,
     "metadata": {},
     "output_type": "execute_result"
    }
   ],
   "source": [
    "usuarios.version.value_counts()\n"
   ]
  },
  {
   "cell_type": "code",
   "execution_count": 34,
   "id": "81e3ddfd",
   "metadata": {},
   "outputs": [
    {
     "data": {
      "text/plain": [
       "userid            44700\n",
       "version           44700\n",
       "sum_gamerounds    44700\n",
       "retention_1       44700\n",
       "retention_7       44700\n",
       "dtype: int64"
      ]
     },
     "execution_count": 34,
     "metadata": {},
     "output_type": "execute_result"
    }
   ],
   "source": [
    "df30=usuarios[usuarios.version=='gate_30']\n",
    "df30.count()"
   ]
  },
  {
   "cell_type": "code",
   "execution_count": 26,
   "id": "427c30ec",
   "metadata": {},
   "outputs": [
    {
     "data": {
      "text/plain": [
       "userid            45489\n",
       "version           45489\n",
       "sum_gamerounds    45489\n",
       "retention_1       45489\n",
       "retention_7       45489\n",
       "dtype: int64"
      ]
     },
     "execution_count": 26,
     "metadata": {},
     "output_type": "execute_result"
    }
   ],
   "source": [
    "df40=usuarios[usuarios.version=='gate_40']\n",
    "df40.count()"
   ]
  },
  {
   "cell_type": "code",
   "execution_count": 2,
   "id": "f2e6147a",
   "metadata": {},
   "outputs": [],
   "source": [
    "# transformacion\n",
    "#agrupamos los datos por el userid"
   ]
  },
  {
   "cell_type": "code",
   "execution_count": 35,
   "id": "38f422cb",
   "metadata": {},
   "outputs": [],
   "source": [
    "# muestreo\n"
   ]
  },
  {
   "cell_type": "code",
   "execution_count": 43,
   "id": "5b90c429",
   "metadata": {},
   "outputs": [
    {
     "data": {
      "text/plain": [
       "20119"
      ]
     },
     "execution_count": 43,
     "metadata": {},
     "output_type": "execute_result"
    }
   ],
   "source": [
    "# testeo para retention_1\n",
    "# retention 30\n",
    "df30_1=df30[df30.retention_1==True]['retention_1'].sum()   #retención de 1 día\n",
    "df30_1\n",
    "\n",
    "#retention 40\n",
    "df40_1=df40[df40.retention_1==True]['retention_1'].sum()\n",
    "df40_1\n"
   ]
  },
  {
   "cell_type": "code",
   "execution_count": 44,
   "id": "70b99fa2",
   "metadata": {},
   "outputs": [
    {
     "data": {
      "text/plain": [
       "20034"
      ]
     },
     "execution_count": 44,
     "metadata": {},
     "output_type": "execute_result"
    }
   ],
   "source": [
    "df30_1"
   ]
  },
  {
   "cell_type": "code",
   "execution_count": 46,
   "id": "9ec4c0c0",
   "metadata": {},
   "outputs": [
    {
     "data": {
      "text/plain": [
       "20119"
      ]
     },
     "execution_count": 46,
     "metadata": {},
     "output_type": "execute_result"
    }
   ],
   "source": [
    "df40_1"
   ]
  },
  {
   "cell_type": "code",
   "execution_count": 51,
   "id": "a048a711",
   "metadata": {},
   "outputs": [],
   "source": [
    "# testeo para retention_7\n",
    "# retention 30\n",
    "df30_7=df30[df30.retention_7==True]['retention_7'].sum()\n",
    "\n",
    "# retention 40\n",
    "df40_7=df40[df40.retention_7==True]['retention_7'].sum()\n"
   ]
  },
  {
   "cell_type": "code",
   "execution_count": 49,
   "id": "3466004d",
   "metadata": {},
   "outputs": [
    {
     "data": {
      "text/plain": [
       "8502"
      ]
     },
     "execution_count": 49,
     "metadata": {},
     "output_type": "execute_result"
    }
   ],
   "source": [
    "df30_7  #control 7 días"
   ]
  },
  {
   "cell_type": "code",
   "execution_count": 53,
   "id": "b38dcffa",
   "metadata": {},
   "outputs": [
    {
     "data": {
      "text/plain": [
       "8279"
      ]
     },
     "execution_count": 53,
     "metadata": {},
     "output_type": "execute_result"
    }
   ],
   "source": [
    "df40_7  # test 7 días"
   ]
  },
  {
   "cell_type": "code",
   "execution_count": 66,
   "id": "09021625",
   "metadata": {},
   "outputs": [
    {
     "data": {
      "text/plain": [
       "'TASAS: Control=0.4481879194630872, Test=0.44228274967574577'"
      ]
     },
     "execution_count": 66,
     "metadata": {},
     "output_type": "execute_result"
    }
   ],
   "source": [
    "#EMPIEZO OTRA VEZ\n",
    "#Esto de Yona. Hay que adaptarlo a 2\n",
    "#1_día\n",
    "imps_30_1, convs_ctrl1 = 44700, 20034   # entrar, esperar\n",
    "imps_40_1, convs_test1= 45489, 20119\n",
    "\n",
    "CR_ctrl = convs_ctrl1/imps_30_1\n",
    "CR_test = convs_test1/imps_40_1\n",
    "\n",
    "\n",
    "f'TASAS: Control={CR_ctrl}, Test={CR_test}'"
   ]
  },
  {
   "cell_type": "code",
   "execution_count": 65,
   "id": "675f428c",
   "metadata": {},
   "outputs": [
    {
     "data": {
      "text/plain": [
       "'TASAS: Control=0.19020134228187918, Test=0.18200004396667327'"
      ]
     },
     "execution_count": 65,
     "metadata": {},
     "output_type": "execute_result"
    }
   ],
   "source": [
    "# 7_días\n",
    "\n",
    "imps_30_7, convs_ctrl7 = 44700, 8502   # entrar, esperar\n",
    "imps_40_7, convs_test7= 45489, 8279\n",
    "\n",
    "CR_ctr7 = convs_ctrl7/imps_30_7\n",
    "CR_test7 = convs_test7/imps_40_7\n",
    "\n",
    "f'TASAS: Control={CR_ctr7}, Test={CR_test7}'"
   ]
  },
  {
   "cell_type": "code",
   "execution_count": 69,
   "id": "b45739d1",
   "metadata": {},
   "outputs": [],
   "source": [
    "#Los a prioris 1_día\n",
    "\n",
    "treinta_C_1, cuarenta_C_1 = convs_ctrl1+1, imps_30_1-convs_ctrl1+1   #control\n",
    "treinta_T_1, cuarenta_T_1 = imps_40_1+1, imps_40_1-convs_test+1   #test\n"
   ]
  },
  {
   "cell_type": "code",
   "execution_count": 68,
   "id": "06fb870e",
   "metadata": {},
   "outputs": [],
   "source": [
    "#Los a prioris 7_día\n",
    "treinta_C_7, cuarenta_C_7 = convs_ctrl+1, imps_30_1-convs_ctrl+1    #control\n",
    "treinta_T_7, cuarenta_T_7 = imps_40_1+1, imps_40_1-convs_test7+1    #Test\n"
   ]
  },
  {
   "cell_type": "code",
   "execution_count": 70,
   "id": "23db9240",
   "metadata": {},
   "outputs": [
    {
     "name": "stdout",
     "output_type": "stream",
     "text": [
      "20035 24667\n",
      "45490 25371\n"
     ]
    }
   ],
   "source": [
    "print(treinta_C_1, cuarenta_C_1 )   #esto es día 1 control de 30 a 40 \n",
    "print(treinta_T_1, cuarenta_T_1)    #esto es día 1 test de 30 a 40"
   ]
  },
  {
   "cell_type": "code",
   "execution_count": 72,
   "id": "ab956561",
   "metadata": {},
   "outputs": [
    {
     "name": "stdout",
     "output_type": "stream",
     "text": [
      "20035 24667\n",
      "45490 37211\n"
     ]
    }
   ],
   "source": [
    "print(treinta_C_7, cuarenta_C_7)    #esto es día 7 control de 30 a 40\n",
    "print(treinta_T_7, cuarenta_T_7)    #esto es día 7 test de 30 a 40"
   ]
  },
  {
   "cell_type": "code",
   "execution_count": 61,
   "id": "d777ea23",
   "metadata": {},
   "outputs": [],
   "source": [
    "beta_control=beta(treinta_C, cuarenta_C)   #Se ponen los controles. 30\n",
    "beta_test=beta(treinta_T, cuarenta_T)     #Se ponen los test. 40\n",
    "\n"
   ]
  },
  {
   "cell_type": "code",
   "execution_count": 74,
   "id": "0b2be56a",
   "metadata": {},
   "outputs": [],
   "source": [
    "# a prioris de 1 \n",
    "\n",
    "a_C, b_C = convs_ctrl1 +1, imps_30_1-convs_ctrl1 +1\n",
    "a_T, b_T = convs_test1 +1, imps_40_1-convs_test1 +1\n",
    "\n",
    "beta_control=beta(a_C, b_C)\n",
    "beta_test=beta(a_T, b_T)\n"
   ]
  },
  {
   "cell_type": "code",
   "execution_count": 75,
   "id": "4641edd9",
   "metadata": {},
   "outputs": [],
   "source": [
    "#a prioris de 7\n",
    "\n",
    "a_C_7, b_C_7 = convs_ctrl7 +1, imps_30_7-convs_ctrl7 +1\n",
    "a_T_7, b_T_7 = convs_test7 +1, imps_40_7-convs_test7 +1\n",
    "\n",
    "beta_control7=beta(a_C_7, b_C_7)\n",
    "beta_test7=beta(a_T_7, b_T_7)"
   ]
  },
  {
   "cell_type": "code",
   "execution_count": null,
   "id": "6b2cbd86",
   "metadata": {},
   "outputs": [],
   "source": [
    "#medias"
   ]
  },
  {
   "cell_type": "code",
   "execution_count": 76,
   "id": "09b3f9a9",
   "metadata": {},
   "outputs": [
    {
     "data": {
      "text/plain": [
       "(0.44819023757326293, 0.44228528719966587)"
      ]
     },
     "execution_count": 76,
     "metadata": {},
     "output_type": "execute_result"
    }
   ],
   "source": [
    "beta_control.mean(), beta_test.mean()   #de 1"
   ]
  },
  {
   "cell_type": "code",
   "execution_count": 77,
   "id": "0344c280",
   "metadata": {},
   "outputs": [
    {
     "data": {
      "text/plain": [
       "(0.19021520289919913, 0.18201402475214878)"
      ]
     },
     "execution_count": 77,
     "metadata": {},
     "output_type": "execute_result"
    }
   ],
   "source": [
    "beta_control7.mean(), beta_test7.mean()   # de 7"
   ]
  },
  {
   "cell_type": "code",
   "execution_count": null,
   "id": "e5dbddb0",
   "metadata": {},
   "outputs": [],
   "source": [
    "#Dibujar"
   ]
  },
  {
   "cell_type": "code",
   "execution_count": 78,
   "id": "172ee09a",
   "metadata": {},
   "outputs": [],
   "source": [
    "x=np.linspace(0, 0.008, 1000)\n",
    "\n",
    "def plot(betas, nombres):\n",
    "    \n",
    "    for bet, nom in zip(betas, nombres):\n",
    "        \n",
    "        y=bet.pdf(x)\n",
    "        y_media=bet.mean()\n",
    "        y_std=bet.std()\n",
    "        \n",
    "        plt.plot(x, y, label='{}, tasa de conv: {:.6f} $\\pm$ {:.10f}'.format(nom, y_media, y_std))\n",
    "        plt.yticks([])\n",
    "        \n",
    "    plt.legend()\n",
    "    plt.show()\n",
    "    \n",
    "    "
   ]
  },
  {
   "cell_type": "code",
   "execution_count": 87,
   "id": "d564b1ab",
   "metadata": {},
   "outputs": [
    {
     "data": {
      "image/png": "[encoded data removed]",
      "text/plain": [
       "<Figure size 1080x576 with 1 Axes>"
      ]
     },
     "metadata": {
      "needs_background": "light"
     },
     "output_type": "display_data"
    }
   ],
   "source": [
    "plot([beta_control, beta_test], ['Control', 'Testeo'])\n"
   ]
  },
  {
   "cell_type": "code",
   "execution_count": 88,
   "id": "71d54f65",
   "metadata": {},
   "outputs": [
    {
     "name": "stdout",
     "output_type": "stream",
     "text": [
      "0.4481879194630872 0.44228274967574577\n"
     ]
    },
    {
     "ename": "NameError",
     "evalue": "name 'beta_C' is not defined",
     "output_type": "error",
     "traceback": [
      "\u001b[0;31m---------------------------------------------------------------------------\u001b[0m",
      "\u001b[0;31mNameError\u001b[0m                                 Traceback (most recent call last)",
      "\u001b[0;32m/var/folders/bp/5cqvvvwn7p14588p725frs740000gn/T/ipykernel_29806/3662389432.py\u001b[0m in \u001b[0;36m<module>\u001b[0;34m\u001b[0m\n\u001b[1;32m      1\u001b[0m \u001b[0mprint\u001b[0m \u001b[0;34m(\u001b[0m\u001b[0mCR_ctrl\u001b[0m\u001b[0;34m,\u001b[0m \u001b[0mCR_test\u001b[0m\u001b[0;34m)\u001b[0m\u001b[0;34m\u001b[0m\u001b[0;34m\u001b[0m\u001b[0m\n\u001b[0;32m----> 2\u001b[0;31m \u001b[0mplot\u001b[0m\u001b[0;34m(\u001b[0m\u001b[0;34m[\u001b[0m\u001b[0mbeta_C\u001b[0m\u001b[0;34m,\u001b[0m \u001b[0mbeta_T\u001b[0m\u001b[0;34m]\u001b[0m\u001b[0;34m,\u001b[0m \u001b[0;34m[\u001b[0m\u001b[0;34m'Control'\u001b[0m\u001b[0;34m,\u001b[0m \u001b[0;34m'Test'\u001b[0m\u001b[0;34m]\u001b[0m\u001b[0;34m)\u001b[0m\u001b[0;34m\u001b[0m\u001b[0;34m\u001b[0m\u001b[0m\n\u001b[0m",
      "\u001b[0;31mNameError\u001b[0m: name 'beta_C' is not defined"
     ]
    }
   ],
   "source": [
    "print (CR_ctrl, CR_test)\n",
    "plot([beta_C, beta_T], ['Control', 'Test'])"
   ]
  },
  {
   "cell_type": "code",
   "execution_count": null,
   "id": "56c32ed1",
   "metadata": {},
   "outputs": [],
   "source": []
  },
  {
   "cell_type": "code",
   "execution_count": null,
   "id": "d29f21dd",
   "metadata": {},
   "outputs": [],
   "source": []
  },
  {
   "cell_type": "code",
   "execution_count": null,
   "id": "8be0ae70",
   "metadata": {},
   "outputs": [],
   "source": []
  },
  {
   "cell_type": "code",
   "execution_count": null,
   "id": "aea5f468",
   "metadata": {},
   "outputs": [],
   "source": []
  },
  {
   "cell_type": "code",
   "execution_count": null,
   "id": "ca5a14ea",
   "metadata": {},
   "outputs": [],
   "source": []
  }
 ],
 "metadata": {
  "finalized": {
   "timestamp": 1642857010293,
   "trusted": true
  },
  "kernelspec": {
   "display_name": "Python 3 (ipykernel)",
   "language": "python",
   "name": "python3"
  },
  "language_info": {
   "codemirror_mode": {
    "name": "ipython",
    "version": 3
   },
   "file_extension": ".py",
   "mimetype": "text/x-python",
   "name": "python",
   "nbconvert_exporter": "python",
   "pygments_lexer": "ipython3",
   "version": "3.9.7"
  },
  "toc": {
   "base_numbering": 1,
   "nav_menu": {},
   "number_sections": true,
   "sideBar": true,
   "skip_h1_title": false,
   "title_cell": "Table of Contents",
   "title_sidebar": "Contents",
   "toc_cell": true,
   "toc_position": {},
   "toc_section_display": true,
   "toc_window_display": false
  },
  "varInspector": {
   "cols": {
    "lenName": 16,
    "lenType": 16,
    "lenVar": 40
   },
   "kernels_config": {
    "python": {
     "delete_cmd_postfix": "",
     "delete_cmd_prefix": "del ",
     "library": "var_list.py",
     "varRefreshCmd": "print(var_dic_list())"
    },
    "r": {
     "delete_cmd_postfix": ") ",
     "delete_cmd_prefix": "rm(",
     "library": "var_list.r",
     "varRefreshCmd": "cat(var_dic_list()) "
    }
   },
   "types_to_exclude": [
    "module",
    "function",
    "builtin_function_or_method",
    "instance",
    "_Feature"
   ],
   "window_display": false
  }
 },
 "nbformat": 4,
 "nbformat_minor": 5
}
